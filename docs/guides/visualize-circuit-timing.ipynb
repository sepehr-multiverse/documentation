{
 "cells": [
  {
   "cell_type": "markdown",
   "id": "33f4bb3c",
   "metadata": {},
   "source": [
    "{/* cspell:ignore mactex, backgroundcolor, lightgreen */}\n",
    "\n",
    "# Visualize circuit timing"
   ]
  },
  {
   "cell_type": "markdown",
   "id": "bfada4f0",
   "metadata": {
    "tags": [
     "version-info"
    ]
   },
   "source": []
  },
  {
   "cell_type": "markdown",
   "id": "c3240c62",
   "metadata": {},
   "source": [
    "In addition to [visualizing instructions on a circuit](/docs/guides/visualize-circuits), you might want to visualize a circuit's scheduling by using the Qiskit [`timeline_drawer`](/docs/api/qiskit/qiskit.visualization.timeline_drawer) method. This visualization could help you to quickly spot idling time on qubits, for example. However, this method does not return accurate results for dynamic circuits.  To visualize dynamic circuit scheduling, use the `draw_circuit_schedule_timing` method, as described in the [Qiskit Runtime support](#qr-support) section.\n",
    "\n",
    "## Examples\n",
    "\n",
    "To visualize a scheduled circuit program, you can call this function with a set of control arguments. Most of the  output image's appearance can be modified by a stylesheet, but this is not required.\n",
    "\n",
    "### Draw with the default stylesheet"
   ]
  },
  {
   "cell_type": "code",
   "execution_count": 13,
   "id": "5b21b8c1",
   "metadata": {},
   "outputs": [
    {
     "data": {
      "text/plain": [
       "<Image src=\"/docs/images/guides/visualize-circuit-timing/extracted-outputs/5b21b8c1-0.avif\" alt=\"Output of the previous code cell\" />"
      ]
     },
     "execution_count": 13,
     "metadata": {},
     "output_type": "execute_result"
    }
   ],
   "source": [
    "from qiskit import QuantumCircuit\n",
    "from qiskit.visualization.timeline import draw\n",
    "from qiskit.providers.fake_provider import GenericBackendV2\n",
    "from qiskit.transpiler import generate_preset_pass_manager\n",
    "\n",
    "qc = QuantumCircuit(2)\n",
    "qc.h(0)\n",
    "qc.cx(0, 1)\n",
    "\n",
    "backend = GenericBackendV2(5)\n",
    "\n",
    "pm = generate_preset_pass_manager(backend=backend, optimization_level=1)\n",
    "isa_circuit = pm.run(qc)\n",
    "\n",
    "draw(isa_circuit, target=backend.target)"
   ]
  },
  {
   "cell_type": "markdown",
   "id": "37f62ecd",
   "metadata": {},
   "source": [
    "### Draw with a stylesheet suited for program debugging"
   ]
  },
  {
   "cell_type": "code",
   "execution_count": 14,
   "id": "907dc46c",
   "metadata": {},
   "outputs": [
    {
     "data": {
      "text/plain": [
       "<Image src=\"/docs/images/guides/visualize-circuit-timing/extracted-outputs/907dc46c-0.avif\" alt=\"Output of the previous code cell\" />"
      ]
     },
     "execution_count": 14,
     "metadata": {},
     "output_type": "execute_result"
    }
   ],
   "source": [
    "from qiskit import QuantumCircuit\n",
    "from qiskit.visualization.timeline import draw, IQXDebugging\n",
    "from qiskit.providers.fake_provider import GenericBackendV2\n",
    "from qiskit.transpiler import generate_preset_pass_manager\n",
    "\n",
    "qc = QuantumCircuit(2)\n",
    "qc.h(0)\n",
    "qc.cx(0, 1)\n",
    "qc.measure_all()\n",
    "\n",
    "backend = GenericBackendV2(5)\n",
    "pm = generate_preset_pass_manager(backend=backend, optimization_level=1)\n",
    "isa_circuit = pm.run(qc)\n",
    "draw(isa_circuit, style=IQXDebugging(), target=backend.target)"
   ]
  },
  {
   "cell_type": "markdown",
   "id": "5406fe18",
   "metadata": {},
   "source": [
    "You can create custom generator or layout functions and update an existing stylesheet with the custom functions. This way, you can control most of the appearance of the output image without modifying the codebase of the scheduled circuit drawer.  See the [`timeline_drawer`](/docs/api/qiskit/qiskit.visualization.timeline_drawer) API reference for more examples."
   ]
  },
  {
   "cell_type": "markdown",
   "id": "ad24e3a0",
   "metadata": {},
   "source": [
    "<span id=\"qr-support\"></span>\n",
    "## Qiskit Runtime support\n",
    "\n",
    "While the timeline drawer built in to Qiskit is useful for static circuits, it might not accurately reflect the timing of [dynamic circuits](/docs/guides/classical-feedforward-and-control-flow) because of implicit operations such as broadcasting and branch determination. As part of dynamic circuit support, Qiskit Runtime returns the accurate circuit timing information inside the job results when requested.\n",
    "\n",
    "<Admonition type=\"note\" title=\"Notes\">\n",
    "- This is an experimental function. It is in preview release status and is therefore subject to change.\n",
    "- This function only applies to Qiskit Runtime Sampler jobs.\n",
    "- Although the total circuit time is returned, this is NOT the time used for billing (quantum time).\n",
    "</Admonition>"
   ]
  },
  {
   "cell_type": "markdown",
   "id": "995a99e8",
   "metadata": {},
   "source": [
    "### Enable timing data retrieval\n",
    "\n",
    "To enable timing data retrieval, set the experimental `scheduler_timing` flag to `True` when running the primitive job."
   ]
  },
  {
   "cell_type": "code",
   "execution_count": 15,
   "id": "ab8c6c23",
   "metadata": {},
   "outputs": [
    {
     "name": "stderr",
     "output_type": "stream",
     "text": [
      "management.get:WARNING:2025-10-21 18:02:34,793: Loading default saved account\n",
      "qiskit_runtime_service.__init__:WARNING:2025-10-21 18:02:41,119: Instance was not set at service instantiation. Free and trial plan instances will be prioritized. Based on the following filters: (tags: None, region: us-east, eu-de), and available plans: (internal, premium), the available account instances are: Documentation premium fleet, Documentation internal fleet, Documentation premium fleet, Documentation internal fleet. If you need a specific instance set it explicitly either by using a saved account with a saved default instance or passing it in directly to QiskitRuntimeService().\n",
      "qiskit_runtime_service.backends:WARNING:2025-10-21 18:02:41,121: Using instance: Documentation premium fleet, plan: premium\n"
     ]
    }
   ],
   "source": [
    "from qiskit_ibm_runtime import QiskitRuntimeService, SamplerV2\n",
    "\n",
    "service = QiskitRuntimeService()\n",
    "# backend = service.least_busy(operational=True, simulator=False)\n",
    "backend = service.backend(\"ibm_brisbane\")\n",
    "\n",
    "pm = generate_preset_pass_manager(backend=backend, optimization_level=1)\n",
    "isa_circuit = pm.run(qc)\n",
    "\n",
    "sampler = SamplerV2(backend)\n",
    "sampler.options.experimental = {\n",
    "    \"execution\": {\n",
    "        \"scheduler_timing\": True,\n",
    "    },\n",
    "}\n",
    "\n",
    "sampler_job = sampler.run([isa_circuit])\n",
    "result = sampler_job.result()"
   ]
  },
  {
   "cell_type": "markdown",
   "id": "531b2abd",
   "metadata": {},
   "source": [
    "### Access the circuit timing data\n",
    "\n",
    "When requested, the circuit timing data for each PUB is returned in the job result metadata, under `[\"compilation\"][\"scheduler_timing\"][\"timing\"]`. This field contains the raw timing information. To display the timing information, use the built-in visualization tool, as described in the [Visualize the timings](#visualize-timings) section.\n",
    "\n",
    "Use the following code to access the circuit timing data for the first PUB:"
   ]
  },
  {
   "cell_type": "code",
   "execution_count": 16,
   "id": "b6958d99",
   "metadata": {},
   "outputs": [],
   "source": [
    "job_result = sampler_job.result()\n",
    "circuit_schedule = job_result[0].metadata[\"compilation\"][\"scheduler_timing\"]\n",
    "circuit_schedule_timing = circuit_schedule[\"timing\"]"
   ]
  },
  {
   "cell_type": "markdown",
   "id": "20400401",
   "metadata": {},
   "source": [
    "#### Understand the raw timing data\n",
    "\n",
    "While visualizing the circuit timing data by using the `draw_circuit_schedule_timing` method is the most common use case, it might be useful to understand the structure of the raw timing data returned. This could help you, for example, to extract information programmatically.\n",
    "\n",
    "The timing data returned in `[\"compilation\"][\"scheduler_timing\"][\"timing\"]` is a list of strings. Each string represents a single instruction on some channel and is comma-separated into the following data types:\n",
    "\n",
    "- `Branch` - Determines whether the instruction is in a control flow (then / else) or a main branch.\n",
    "- `Instruction` - The gate and the qubit to operate on.\n",
    "- `Channel` - The channel that is being assigned with the instruction. It can be one of the following:\n",
    "      - `Qubit x` - The drive channel for qubit _x_.\n",
    "      - `AWGRx_y` (arbitrary waveform generator readout) - Used by readout channels to communicate when measuring qubits. The _x_ and _y_ arguments correspond to the readout instrument ID and the qubit number, respectively.\n",
    "- `T0` - The instruction start time within the complete schedule\n",
    "- `Duration` - The instruction's duration.\n",
    "- `Pulse` - The type of pulse operation being used.\n",
    "\n",
    "\n",
    "Example:\n",
    "\n",
    "```python\n",
    "main,barrier,Qubit 0,7,0,barrier # A barrier on the main branch on qubit 0 at time 7 with 0 duration\n",
    "main,reset_0,Qubit 0,7,64,play # A reset instruction on the main branch on qubit 0 at time 7 with duration 64 and a play operation\n",
    "...\n",
    "```\n",
    "![Hovering over the output shows information such as the start, finish, and duration.](/docs/images/guides/visualize-circuit-timing/image_1.svg 'image 1')\n",
    "\n",
    "![Hovering over the output shows information such as the start, finish, and duration.](/docs/images/guides/visualize-circuit-timing/image_2.svg 'image 2')"
   ]
  },
  {
   "cell_type": "markdown",
   "id": "9d34100f",
   "metadata": {},
   "source": [
    "<span id=\"visualize-timings\"></span>\n",
    "### Visualize the timings\n",
    "\n",
    "With `qiskit-ibm-runtime` v0.43.0 or later, you can visualize circuit timings. To visualize the timings, you first need to convert the result metadata to `fig` by using the [`draw_circuit_schedule_timing` method.](https://github.com/Qiskit/qiskit-ibm-runtime/blob/3d1bf1e1d49e5123841639fce259859c90ce9314/qiskit_ibm_runtime/visualization/draw_circuit_schedule_timings.py#L26) This method returns a `plotly` figure, which you can display directly, save to a file, or both.  For more information about the `plotly` commands to use, see [`fig.show()`](https://plotly.com/python-api-reference/generated/plotly.io.show.html) and  [`fig.write_image(\"<path.format>\")`.](https://plotly.com/python-api-reference/generated/plotly.io.write_image.html)"
   ]
  },
  {
   "cell_type": "code",
   "execution_count": 17,
   "id": "4ad3acfb",
   "metadata": {},
   "outputs": [
    {
     "data": {
      "application/vnd.plotly.v1+json": {
       "config": {
        "plotlyServerURL": "https://plot.ly"
       },
       "data": [
        {
         "fill": "toself",
         "fillcolor": "#AB63FA",
         "hoverinfo": "x+text",
         "legendgroup": "measure",
         "line": {
          "color": "black"
         },
         "marker": {
          "size": 0.01
         },
         "mode": "lines+markers",
         "name": "measure",
         "showlegend": true,
         "text": "Instruction: measure_1<br>Pulse: capture<br>Start: 22448<br>Finish: 24048<br>Duration: 1600",
         "type": "scatter",
         "x": [
          22448,
          23248,
          24048,
          24048,
          23248,
          22448,
          22448,
          null
         ],
         "y": [
          -0.4,
          -0.4,
          -0.4,
          0.4,
          0.4,
          0.4,
          -0.4,
          null
         ]
        },
        {
         "fill": "toself",
         "fillcolor": "#AB63FA",
         "hoverinfo": "x+text",
         "legendgroup": "measure",
         "line": {
          "color": "black"
         },
         "marker": {
          "size": 0.01
         },
         "mode": "lines+markers",
         "name": "measure",
         "showlegend": false,
         "text": "Instruction: measure_0<br>Pulse: capture<br>Start: 22448<br>Finish: 24048<br>Duration: 1600",
         "type": "scatter",
         "x": [
          22448,
          23248,
          24048,
          24048,
          23248,
          22448,
          22448,
          null
         ],
         "y": [
          0.6,
          0.6,
          0.6,
          1.4,
          1.4,
          1.4,
          0.6,
          null
         ]
        },
        {
         "fill": "toself",
         "fillcolor": "#AB63FA",
         "hoverinfo": "x+text",
         "legendgroup": "measure",
         "line": {
          "color": "black"
         },
         "marker": {
          "size": 0.01
         },
         "mode": "lines+markers",
         "name": "measure",
         "showlegend": false,
         "text": "Instruction: measure_0<br>Pulse: play<br>Start: 21640<br>Finish: 23080<br>Duration: 1440",
         "type": "scatter",
         "x": [
          21640,
          22360,
          23080,
          23080,
          22360,
          21640,
          21640,
          null
         ],
         "y": [
          1.6,
          1.6,
          1.6,
          2.4,
          2.4,
          2.4,
          1.6,
          null
         ]
        },
        {
         "fill": "toself",
         "fillcolor": "#EF553B",
         "hoverinfo": "x+text",
         "legendgroup": "barrier",
         "line": {
          "color": "black"
         },
         "marker": {
          "size": 0.01
         },
         "mode": "lines+markers",
         "name": "barrier",
         "showlegend": true,
         "text": "Instruction: barrier<br>Pulse: barrier<br>Start: 21640<br>Finish: 21640<br>Duration: 0",
         "type": "scatter",
         "x": [
          21640,
          21640,
          21640,
          21640,
          21640,
          21640,
          21640,
          null
         ],
         "y": [
          1.6,
          1.6,
          1.6,
          2.4,
          2.4,
          2.4,
          1.6,
          null
         ]
        },
        {
         "fill": "toself",
         "fillcolor": "#19D3F3",
         "hoverinfo": "x+text",
         "legendgroup": "sx",
         "line": {
          "color": "black"
         },
         "marker": {
          "size": 0.01
         },
         "mode": "lines+markers",
         "name": "sx",
         "showlegend": true,
         "text": "Instruction: sx_0<br>Pulse: play<br>Start: 21520<br>Finish: 21640<br>Duration: 120",
         "type": "scatter",
         "x": [
          21520,
          21580,
          21640,
          21640,
          21580,
          21520,
          21520,
          null
         ],
         "y": [
          1.6,
          1.6,
          1.6,
          2.4,
          2.4,
          2.4,
          1.6,
          null
         ]
        },
        {
         "fill": "toself",
         "fillcolor": "#00CC96",
         "hoverinfo": "x+text",
         "legendgroup": "ecr",
         "line": {
          "color": "black"
         },
         "marker": {
          "size": 0.01
         },
         "mode": "lines+markers",
         "name": "ecr",
         "showlegend": true,
         "text": "Instruction: ecr_1_0<br>Pulse: play<br>Start: 20920<br>Finish: 21520<br>Duration: 600",
         "type": "scatter",
         "x": [
          20920,
          21220,
          21520,
          21520,
          21220,
          20920,
          20920,
          null
         ],
         "y": [
          1.6,
          1.6,
          1.6,
          2.4,
          2.4,
          2.4,
          1.6,
          null
         ]
        },
        {
         "fill": "toself",
         "fillcolor": "#00CC96",
         "hoverinfo": "x+text",
         "legendgroup": "ecr",
         "line": {
          "color": "black"
         },
         "marker": {
          "size": 0.01
         },
         "mode": "lines+markers",
         "name": "ecr",
         "showlegend": false,
         "text": "Instruction: ecr_1_0<br>Pulse: play<br>Start: 20200<br>Finish: 20800<br>Duration: 600",
         "type": "scatter",
         "x": [
          20200,
          20500,
          20800,
          20800,
          20500,
          20200,
          20200,
          null
         ],
         "y": [
          1.6,
          1.6,
          1.6,
          2.4,
          2.4,
          2.4,
          1.6,
          null
         ]
        },
        {
         "fill": "toself",
         "fillcolor": "#EF553B",
         "hoverinfo": "x+text",
         "legendgroup": "barrier",
         "line": {
          "color": "black"
         },
         "marker": {
          "size": 0.01
         },
         "mode": "lines+markers",
         "name": "barrier",
         "showlegend": false,
         "text": "Instruction: barrier<br>Pulse: barrier<br>Start: 0<br>Finish: 0<br>Duration: 0",
         "type": "scatter",
         "x": [
          0,
          0,
          0,
          0,
          0,
          0,
          0,
          null
         ],
         "y": [
          1.6,
          1.6,
          1.6,
          2.4,
          2.4,
          2.4,
          1.6,
          null
         ]
        },
        {
         "fill": "toself",
         "fillcolor": "#636EFA",
         "hoverinfo": "x+text",
         "legendgroup": "INIT",
         "line": {
          "color": "black"
         },
         "marker": {
          "size": 0.01
         },
         "mode": "lines+markers",
         "name": "INIT",
         "showlegend": true,
         "text": "Instruction: INIT_0<br>Pulse: play<br>Start: 80<br>Finish: 20080<br>Duration: 20000",
         "type": "scatter",
         "x": [
          80,
          10080,
          20080,
          20080,
          10080,
          80,
          80,
          null
         ],
         "y": [
          1.6,
          1.6,
          1.6,
          2.4,
          2.4,
          2.4,
          1.6,
          null
         ]
        },
        {
         "fill": "toself",
         "fillcolor": "#636EFA",
         "hoverinfo": "x+text",
         "legendgroup": "INIT",
         "line": {
          "color": "black"
         },
         "marker": {
          "size": 0.01
         },
         "mode": "lines+markers",
         "name": "INIT",
         "showlegend": false,
         "text": "Instruction: INIT_0<br>Pulse: play<br>Start: 72<br>Finish: 20072<br>Duration: 20000",
         "type": "scatter",
         "x": [
          72,
          10072,
          20072,
          20072,
          10072,
          72,
          72,
          null
         ],
         "y": [
          1.6,
          1.6,
          1.6,
          2.4,
          2.4,
          2.4,
          1.6,
          null
         ]
        },
        {
         "fill": "toself",
         "fillcolor": "#EF553B",
         "hoverinfo": "x+text",
         "legendgroup": "barrier",
         "line": {
          "color": "black"
         },
         "marker": {
          "size": 0.01
         },
         "mode": "lines+markers",
         "name": "barrier",
         "showlegend": false,
         "text": "Instruction: barrier<br>Pulse: barrier<br>Start: 20080<br>Finish: 20080<br>Duration: 0",
         "type": "scatter",
         "x": [
          20080,
          20080,
          20080,
          20080,
          20080,
          20080,
          20080,
          null
         ],
         "y": [
          1.6,
          1.6,
          1.6,
          2.4,
          2.4,
          2.4,
          1.6,
          null
         ]
        },
        {
         "fill": "toself",
         "fillcolor": "#19D3F3",
         "hoverinfo": "x+text",
         "legendgroup": "sx",
         "line": {
          "color": "black"
         },
         "marker": {
          "size": 0.01
         },
         "mode": "lines+markers",
         "name": "sx",
         "showlegend": false,
         "text": "Instruction: sx_0<br>Pulse: play<br>Start: 20080<br>Finish: 20200<br>Duration: 120",
         "type": "scatter",
         "x": [
          20080,
          20140,
          20200,
          20200,
          20140,
          20080,
          20080,
          null
         ],
         "y": [
          1.6,
          1.6,
          1.6,
          2.4,
          2.4,
          2.4,
          1.6,
          null
         ]
        },
        {
         "fill": "toself",
         "fillcolor": "#EF553B",
         "hoverinfo": "x+text",
         "legendgroup": "barrier",
         "line": {
          "color": "black"
         },
         "marker": {
          "size": 0.01
         },
         "mode": "lines+markers",
         "name": "barrier",
         "showlegend": false,
         "text": "Instruction: barrier<br>Pulse: barrier<br>Start: 20080<br>Finish: 20080<br>Duration: 0",
         "type": "scatter",
         "x": [
          20080,
          20080,
          20080,
          20080,
          20080,
          20080,
          20080,
          null
         ],
         "y": [
          2.6,
          2.6,
          2.6,
          3.4,
          3.4,
          3.4,
          2.6,
          null
         ]
        },
        {
         "fill": "toself",
         "fillcolor": "#19D3F3",
         "hoverinfo": "x+text",
         "legendgroup": "sx",
         "line": {
          "color": "black"
         },
         "marker": {
          "size": 0.01
         },
         "mode": "lines+markers",
         "name": "sx",
         "showlegend": false,
         "text": "Instruction: sx_1<br>Pulse: play<br>Start: 21520<br>Finish: 21640<br>Duration: 120",
         "type": "scatter",
         "x": [
          21520,
          21580,
          21640,
          21640,
          21580,
          21520,
          21520,
          null
         ],
         "y": [
          2.6,
          2.6,
          2.6,
          3.4,
          3.4,
          3.4,
          2.6,
          null
         ]
        },
        {
         "fill": "toself",
         "fillcolor": "#636EFA",
         "hoverinfo": "x+text",
         "legendgroup": "INIT",
         "line": {
          "color": "black"
         },
         "marker": {
          "size": 0.01
         },
         "mode": "lines+markers",
         "name": "INIT",
         "showlegend": false,
         "text": "Instruction: INIT_1<br>Pulse: play<br>Start: 72<br>Finish: 20072<br>Duration: 20000",
         "type": "scatter",
         "x": [
          72,
          10072,
          20072,
          20072,
          10072,
          72,
          72,
          null
         ],
         "y": [
          2.6,
          2.6,
          2.6,
          3.4,
          3.4,
          3.4,
          2.6,
          null
         ]
        },
        {
         "fill": "toself",
         "fillcolor": "#636EFA",
         "hoverinfo": "x+text",
         "legendgroup": "INIT",
         "line": {
          "color": "black"
         },
         "marker": {
          "size": 0.01
         },
         "mode": "lines+markers",
         "name": "INIT",
         "showlegend": false,
         "text": "Instruction: INIT_1<br>Pulse: play<br>Start: 80<br>Finish: 20080<br>Duration: 20000",
         "type": "scatter",
         "x": [
          80,
          10080,
          20080,
          20080,
          10080,
          80,
          80,
          null
         ],
         "y": [
          2.6,
          2.6,
          2.6,
          3.4,
          3.4,
          3.4,
          2.6,
          null
         ]
        },
        {
         "fill": "toself",
         "fillcolor": "#EF553B",
         "hoverinfo": "x+text",
         "legendgroup": "barrier",
         "line": {
          "color": "black"
         },
         "marker": {
          "size": 0.01
         },
         "mode": "lines+markers",
         "name": "barrier",
         "showlegend": false,
         "text": "Instruction: barrier<br>Pulse: barrier<br>Start: 21640<br>Finish: 21640<br>Duration: 0",
         "type": "scatter",
         "x": [
          21640,
          21640,
          21640,
          21640,
          21640,
          21640,
          21640,
          null
         ],
         "y": [
          2.6,
          2.6,
          2.6,
          3.4,
          3.4,
          3.4,
          2.6,
          null
         ]
        },
        {
         "fill": "toself",
         "fillcolor": "#EF553B",
         "hoverinfo": "x+text",
         "legendgroup": "barrier",
         "line": {
          "color": "black"
         },
         "marker": {
          "size": 0.01
         },
         "mode": "lines+markers",
         "name": "barrier",
         "showlegend": false,
         "text": "Instruction: barrier<br>Pulse: barrier<br>Start: 0<br>Finish: 0<br>Duration: 0",
         "type": "scatter",
         "x": [
          0,
          0,
          0,
          0,
          0,
          0,
          0,
          null
         ],
         "y": [
          2.6,
          2.6,
          2.6,
          3.4,
          3.4,
          3.4,
          2.6,
          null
         ]
        },
        {
         "fill": "toself",
         "fillcolor": "#00CC96",
         "hoverinfo": "x+text",
         "legendgroup": "ecr",
         "line": {
          "color": "black"
         },
         "marker": {
          "size": 0.01
         },
         "mode": "lines+markers",
         "name": "ecr",
         "showlegend": false,
         "text": "Instruction: ecr_1_0<br>Pulse: play<br>Start: 20800<br>Finish: 20920<br>Duration: 120",
         "type": "scatter",
         "x": [
          20800,
          20860,
          20920,
          20920,
          20860,
          20800,
          20800,
          null
         ],
         "y": [
          2.6,
          2.6,
          2.6,
          3.4,
          3.4,
          3.4,
          2.6,
          null
         ]
        },
        {
         "fill": "toself",
         "fillcolor": "#19D3F3",
         "hoverinfo": "x+text",
         "legendgroup": "sx",
         "line": {
          "color": "black"
         },
         "marker": {
          "size": 0.01
         },
         "mode": "lines+markers",
         "name": "sx",
         "showlegend": false,
         "text": "Instruction: sx_1<br>Pulse: play<br>Start: 20080<br>Finish: 20200<br>Duration: 120",
         "type": "scatter",
         "x": [
          20080,
          20140,
          20200,
          20200,
          20140,
          20080,
          20080,
          null
         ],
         "y": [
          2.6,
          2.6,
          2.6,
          3.4,
          3.4,
          3.4,
          2.6,
          null
         ]
        },
        {
         "fill": "toself",
         "fillcolor": "#AB63FA",
         "hoverinfo": "x+text",
         "legendgroup": "measure",
         "line": {
          "color": "black"
         },
         "marker": {
          "size": 0.01
         },
         "mode": "lines+markers",
         "name": "measure",
         "showlegend": false,
         "text": "Instruction: measure_1<br>Pulse: play<br>Start: 21640<br>Finish: 23080<br>Duration: 1440",
         "type": "scatter",
         "x": [
          21640,
          22360,
          23080,
          23080,
          22360,
          21640,
          21640,
          null
         ],
         "y": [
          2.6,
          2.6,
          2.6,
          3.4,
          3.4,
          3.4,
          2.6,
          null
         ]
        },
        {
         "fill": "toself",
         "fillcolor": "#00CC96",
         "hoverinfo": "x+text",
         "legendgroup": "ecr",
         "line": {
          "color": "black"
         },
         "marker": {
          "size": 0.01
         },
         "mode": "lines+markers",
         "name": "ecr",
         "showlegend": false,
         "text": "Instruction: ecr_1_0<br>Pulse: play<br>Start: 20200<br>Finish: 20800<br>Duration: 600",
         "type": "scatter",
         "x": [
          20200,
          20500,
          20800,
          20800,
          20500,
          20200,
          20200,
          null
         ],
         "y": [
          2.6,
          2.6,
          2.6,
          3.4,
          3.4,
          3.4,
          2.6,
          null
         ]
        },
        {
         "fill": "toself",
         "fillcolor": "#00CC96",
         "hoverinfo": "x+text",
         "legendgroup": "ecr",
         "line": {
          "color": "black"
         },
         "marker": {
          "size": 0.01
         },
         "mode": "lines+markers",
         "name": "ecr",
         "showlegend": false,
         "text": "Instruction: ecr_1_0<br>Pulse: play<br>Start: 20920<br>Finish: 21520<br>Duration: 600",
         "type": "scatter",
         "x": [
          20920,
          21220,
          21520,
          21520,
          21220,
          20920,
          20920,
          null
         ],
         "y": [
          2.6,
          2.6,
          2.6,
          3.4,
          3.4,
          3.4,
          2.6,
          null
         ]
        },
        {
         "fill": "toself",
         "fillcolor": "#FFA15A",
         "hoverinfo": "x+text",
         "legendgroup": "rz",
         "line": {
          "color": "black"
         },
         "marker": {
          "size": 0.01
         },
         "mode": "lines+markers",
         "name": "rz",
         "showlegend": true,
         "text": "Instruction: rz_1<br>Pulse: shift_phase<br>Start: 21640<br>Finish: 21640<br>Duration: 0",
         "type": "scatter",
         "x": [
          21640,
          21641,
          21640,
          21639,
          21640,
          null
         ],
         "y": [
          1.8,
          2,
          2.2,
          2,
          1.8,
          null
         ]
        },
        {
         "fill": "toself",
         "fillcolor": "#19D3F3",
         "hoverinfo": "x+text",
         "legendgroup": "sx",
         "line": {
          "color": "black"
         },
         "marker": {
          "size": 0.01
         },
         "mode": "lines+markers",
         "name": "sx",
         "showlegend": false,
         "text": "Instruction: sx_1<br>Pulse: shift_phase<br>Start: 21640<br>Finish: 21640<br>Duration: 0",
         "type": "scatter",
         "x": [
          21640,
          21641,
          21640,
          21639,
          21640,
          null
         ],
         "y": [
          1.8,
          2,
          2.2,
          2,
          1.8,
          null
         ]
        },
        {
         "fill": "toself",
         "fillcolor": "#FFA15A",
         "hoverinfo": "x+text",
         "legendgroup": "rz",
         "line": {
          "color": "black"
         },
         "marker": {
          "size": 0.01
         },
         "mode": "lines+markers",
         "name": "rz",
         "showlegend": false,
         "text": "Instruction: rz_1<br>Pulse: shift_phase<br>Start: 21520<br>Finish: 21520<br>Duration: 0",
         "type": "scatter",
         "x": [
          21520,
          21521,
          21520,
          21519,
          21520,
          null
         ],
         "y": [
          1.8,
          2,
          2.2,
          2,
          1.8,
          null
         ]
        },
        {
         "fill": "toself",
         "fillcolor": "#FFA15A",
         "hoverinfo": "x+text",
         "legendgroup": "rz",
         "line": {
          "color": "black"
         },
         "marker": {
          "size": 0.01
         },
         "mode": "lines+markers",
         "name": "rz",
         "showlegend": false,
         "text": "Instruction: rz_0<br>Pulse: shift_phase<br>Start: 21640<br>Finish: 21640<br>Duration: 0",
         "type": "scatter",
         "x": [
          21640,
          21641,
          21640,
          21639,
          21640,
          null
         ],
         "y": [
          1.8,
          2,
          2.2,
          2,
          1.8,
          null
         ]
        },
        {
         "fill": "toself",
         "fillcolor": "#19D3F3",
         "hoverinfo": "x+text",
         "legendgroup": "sx",
         "line": {
          "color": "black"
         },
         "marker": {
          "size": 0.01
         },
         "mode": "lines+markers",
         "name": "sx",
         "showlegend": false,
         "text": "Instruction: sx_0<br>Pulse: shift_phase<br>Start: 21640<br>Finish: 21640<br>Duration: 0",
         "type": "scatter",
         "x": [
          21640,
          21641,
          21640,
          21639,
          21640,
          null
         ],
         "y": [
          1.8,
          2,
          2.2,
          2,
          1.8,
          null
         ]
        },
        {
         "fill": "toself",
         "fillcolor": "#FFA15A",
         "hoverinfo": "x+text",
         "legendgroup": "rz",
         "line": {
          "color": "black"
         },
         "marker": {
          "size": 0.01
         },
         "mode": "lines+markers",
         "name": "rz",
         "showlegend": false,
         "text": "Instruction: rz_0<br>Pulse: shift_phase<br>Start: 21520<br>Finish: 21520<br>Duration: 0",
         "type": "scatter",
         "x": [
          21520,
          21521,
          21520,
          21519,
          21520,
          null
         ],
         "y": [
          1.8,
          2,
          2.2,
          2,
          1.8,
          null
         ]
        },
        {
         "fill": "toself",
         "fillcolor": "#FFA15A",
         "hoverinfo": "x+text",
         "legendgroup": "rz",
         "line": {
          "color": "black"
         },
         "marker": {
          "size": 0.01
         },
         "mode": "lines+markers",
         "name": "rz",
         "showlegend": false,
         "text": "Instruction: rz_1<br>Pulse: shift_phase<br>Start: 20200<br>Finish: 20200<br>Duration: 0",
         "type": "scatter",
         "x": [
          20200,
          20201,
          20200,
          20199,
          20200,
          null
         ],
         "y": [
          1.8,
          2,
          2.2,
          2,
          1.8,
          null
         ]
        },
        {
         "fill": "toself",
         "fillcolor": "#19D3F3",
         "hoverinfo": "x+text",
         "legendgroup": "sx",
         "line": {
          "color": "black"
         },
         "marker": {
          "size": 0.01
         },
         "mode": "lines+markers",
         "name": "sx",
         "showlegend": false,
         "text": "Instruction: sx_1<br>Pulse: shift_phase<br>Start: 20200<br>Finish: 20200<br>Duration: 0",
         "type": "scatter",
         "x": [
          20200,
          20201,
          20200,
          20199,
          20200,
          null
         ],
         "y": [
          1.8,
          2,
          2.2,
          2,
          1.8,
          null
         ]
        },
        {
         "fill": "toself",
         "fillcolor": "#FFA15A",
         "hoverinfo": "x+text",
         "legendgroup": "rz",
         "line": {
          "color": "black"
         },
         "marker": {
          "size": 0.01
         },
         "mode": "lines+markers",
         "name": "rz",
         "showlegend": false,
         "text": "Instruction: rz_1<br>Pulse: shift_phase<br>Start: 20080<br>Finish: 20080<br>Duration: 0",
         "type": "scatter",
         "x": [
          20080,
          20081,
          20080,
          20079,
          20080,
          null
         ],
         "y": [
          1.8,
          2,
          2.2,
          2,
          1.8,
          null
         ]
        },
        {
         "fill": "toself",
         "fillcolor": "#FFA15A",
         "hoverinfo": "x+text",
         "legendgroup": "rz",
         "line": {
          "color": "black"
         },
         "marker": {
          "size": 0.01
         },
         "mode": "lines+markers",
         "name": "rz",
         "showlegend": false,
         "text": "Instruction: rz_0<br>Pulse: shift_phase<br>Start: 20080<br>Finish: 20080<br>Duration: 0",
         "type": "scatter",
         "x": [
          20080,
          20081,
          20080,
          20079,
          20080,
          null
         ],
         "y": [
          1.8,
          2,
          2.2,
          2,
          1.8,
          null
         ]
        },
        {
         "fill": "toself",
         "fillcolor": "#19D3F3",
         "hoverinfo": "x+text",
         "legendgroup": "sx",
         "line": {
          "color": "black"
         },
         "marker": {
          "size": 0.01
         },
         "mode": "lines+markers",
         "name": "sx",
         "showlegend": false,
         "text": "Instruction: sx_0<br>Pulse: shift_phase<br>Start: 20200<br>Finish: 20200<br>Duration: 0",
         "type": "scatter",
         "x": [
          20200,
          20201,
          20200,
          20199,
          20200,
          null
         ],
         "y": [
          1.8,
          2,
          2.2,
          2,
          1.8,
          null
         ]
        },
        {
         "fill": "toself",
         "fillcolor": "#FFA15A",
         "hoverinfo": "x+text",
         "legendgroup": "rz",
         "line": {
          "color": "black"
         },
         "marker": {
          "size": 0.01
         },
         "mode": "lines+markers",
         "name": "rz",
         "showlegend": false,
         "text": "Instruction: rz_0<br>Pulse: shift_phase<br>Start: 20080<br>Finish: 20080<br>Duration: 0",
         "type": "scatter",
         "x": [
          20080,
          20081,
          20080,
          20079,
          20080,
          null
         ],
         "y": [
          2.8,
          3,
          3.2,
          3,
          2.8,
          null
         ]
        },
        {
         "fill": "toself",
         "fillcolor": "#FFA15A",
         "hoverinfo": "x+text",
         "legendgroup": "rz",
         "line": {
          "color": "black"
         },
         "marker": {
          "size": 0.01
         },
         "mode": "lines+markers",
         "name": "rz",
         "showlegend": false,
         "text": "Instruction: rz_1<br>Pulse: shift_phase<br>Start: 21520<br>Finish: 21520<br>Duration: 0",
         "type": "scatter",
         "x": [
          21520,
          21521,
          21520,
          21519,
          21520,
          null
         ],
         "y": [
          2.8,
          3,
          3.2,
          3,
          2.8,
          null
         ]
        },
        {
         "fill": "toself",
         "fillcolor": "#FFA15A",
         "hoverinfo": "x+text",
         "legendgroup": "rz",
         "line": {
          "color": "black"
         },
         "marker": {
          "size": 0.01
         },
         "mode": "lines+markers",
         "name": "rz",
         "showlegend": false,
         "text": "Instruction: rz_0<br>Pulse: shift_phase<br>Start: 21640<br>Finish: 21640<br>Duration: 0",
         "type": "scatter",
         "x": [
          21640,
          21641,
          21640,
          21639,
          21640,
          null
         ],
         "y": [
          2.8,
          3,
          3.2,
          3,
          2.8,
          null
         ]
        },
        {
         "fill": "toself",
         "fillcolor": "#FFA15A",
         "hoverinfo": "x+text",
         "legendgroup": "rz",
         "line": {
          "color": "black"
         },
         "marker": {
          "size": 0.01
         },
         "mode": "lines+markers",
         "name": "rz",
         "showlegend": false,
         "text": "Instruction: rz_1<br>Pulse: shift_phase<br>Start: 21640<br>Finish: 21640<br>Duration: 0",
         "type": "scatter",
         "x": [
          21640,
          21641,
          21640,
          21639,
          21640,
          null
         ],
         "y": [
          2.8,
          3,
          3.2,
          3,
          2.8,
          null
         ]
        },
        {
         "fill": "toself",
         "fillcolor": "#19D3F3",
         "hoverinfo": "x+text",
         "legendgroup": "sx",
         "line": {
          "color": "black"
         },
         "marker": {
          "size": 0.01
         },
         "mode": "lines+markers",
         "name": "sx",
         "showlegend": false,
         "text": "Instruction: sx_1<br>Pulse: shift_phase<br>Start: 21640<br>Finish: 21640<br>Duration: 0",
         "type": "scatter",
         "x": [
          21640,
          21641,
          21640,
          21639,
          21640,
          null
         ],
         "y": [
          2.8,
          3,
          3.2,
          3,
          2.8,
          null
         ]
        },
        {
         "fill": "toself",
         "fillcolor": "#FFA15A",
         "hoverinfo": "x+text",
         "legendgroup": "rz",
         "line": {
          "color": "black"
         },
         "marker": {
          "size": 0.01
         },
         "mode": "lines+markers",
         "name": "rz",
         "showlegend": false,
         "text": "Instruction: rz_1<br>Pulse: shift_phase<br>Start: 20080<br>Finish: 20080<br>Duration: 0",
         "type": "scatter",
         "x": [
          20080,
          20081,
          20080,
          20079,
          20080,
          null
         ],
         "y": [
          2.8,
          3,
          3.2,
          3,
          2.8,
          null
         ]
        },
        {
         "fill": "toself",
         "fillcolor": "#19D3F3",
         "hoverinfo": "x+text",
         "legendgroup": "sx",
         "line": {
          "color": "black"
         },
         "marker": {
          "size": 0.01
         },
         "mode": "lines+markers",
         "name": "sx",
         "showlegend": false,
         "text": "Instruction: sx_0<br>Pulse: shift_phase<br>Start: 21640<br>Finish: 21640<br>Duration: 0",
         "type": "scatter",
         "x": [
          21640,
          21641,
          21640,
          21639,
          21640,
          null
         ],
         "y": [
          2.8,
          3,
          3.2,
          3,
          2.8,
          null
         ]
        },
        {
         "fill": "toself",
         "fillcolor": "#19D3F3",
         "hoverinfo": "x+text",
         "legendgroup": "sx",
         "line": {
          "color": "black"
         },
         "marker": {
          "size": 0.01
         },
         "mode": "lines+markers",
         "name": "sx",
         "showlegend": false,
         "text": "Instruction: sx_1<br>Pulse: shift_phase<br>Start: 20200<br>Finish: 20200<br>Duration: 0",
         "type": "scatter",
         "x": [
          20200,
          20201,
          20200,
          20199,
          20200,
          null
         ],
         "y": [
          2.8,
          3,
          3.2,
          3,
          2.8,
          null
         ]
        },
        {
         "fill": "toself",
         "fillcolor": "#FFA15A",
         "hoverinfo": "x+text",
         "legendgroup": "rz",
         "line": {
          "color": "black"
         },
         "marker": {
          "size": 0.01
         },
         "mode": "lines+markers",
         "name": "rz",
         "showlegend": false,
         "text": "Instruction: rz_1<br>Pulse: shift_phase<br>Start: 20200<br>Finish: 20200<br>Duration: 0",
         "type": "scatter",
         "x": [
          20200,
          20201,
          20200,
          20199,
          20200,
          null
         ],
         "y": [
          2.8,
          3,
          3.2,
          3,
          2.8,
          null
         ]
        },
        {
         "fill": "toself",
         "fillcolor": "#19D3F3",
         "hoverinfo": "x+text",
         "legendgroup": "sx",
         "line": {
          "color": "black"
         },
         "marker": {
          "size": 0.01
         },
         "mode": "lines+markers",
         "name": "sx",
         "showlegend": false,
         "text": "Instruction: sx_0<br>Pulse: shift_phase<br>Start: 20200<br>Finish: 20200<br>Duration: 0",
         "type": "scatter",
         "x": [
          20200,
          20201,
          20200,
          20199,
          20200,
          null
         ],
         "y": [
          2.8,
          3,
          3.2,
          3,
          2.8,
          null
         ]
        },
        {
         "fill": "toself",
         "fillcolor": "#FFA15A",
         "hoverinfo": "x+text",
         "legendgroup": "rz",
         "line": {
          "color": "black"
         },
         "marker": {
          "size": 0.01
         },
         "mode": "lines+markers",
         "name": "rz",
         "showlegend": false,
         "text": "Instruction: rz_0<br>Pulse: shift_phase<br>Start: 21520<br>Finish: 21520<br>Duration: 0",
         "type": "scatter",
         "x": [
          21520,
          21521,
          21520,
          21519,
          21520,
          null
         ],
         "y": [
          2.8,
          3,
          3.2,
          3,
          2.8,
          null
         ]
        },
        {
         "fill": "toself",
         "fillcolor": "#19D3F3",
         "hoverinfo": "x+text",
         "legendgroup": "sx",
         "line": {
          "color": "black"
         },
         "marker": {
          "size": 0.01
         },
         "mode": "lines+markers",
         "name": "sx",
         "showlegend": false,
         "text": "Instruction: sx_0<br>Pulse: shift_phase<br>Start: 21640<br>Finish: 21640<br>Duration: 0",
         "type": "scatter",
         "x": [
          21640,
          21641,
          21640,
          21639,
          21640,
          null
         ],
         "y": [
          3.8,
          4,
          4.2,
          4,
          3.8,
          null
         ]
        },
        {
         "fill": "toself",
         "fillcolor": "#19D3F3",
         "hoverinfo": "x+text",
         "legendgroup": "sx",
         "line": {
          "color": "black"
         },
         "marker": {
          "size": 0.01
         },
         "mode": "lines+markers",
         "name": "sx",
         "showlegend": false,
         "text": "Instruction: sx_0<br>Pulse: shift_phase<br>Start: 20200<br>Finish: 20200<br>Duration: 0",
         "type": "scatter",
         "x": [
          20200,
          20201,
          20200,
          20199,
          20200,
          null
         ],
         "y": [
          3.8,
          4,
          4.2,
          4,
          3.8,
          null
         ]
        },
        {
         "fill": "toself",
         "fillcolor": "#FFA15A",
         "hoverinfo": "x+text",
         "legendgroup": "rz",
         "line": {
          "color": "black"
         },
         "marker": {
          "size": 0.01
         },
         "mode": "lines+markers",
         "name": "rz",
         "showlegend": false,
         "text": "Instruction: rz_0<br>Pulse: shift_phase<br>Start: 21520<br>Finish: 21520<br>Duration: 0",
         "type": "scatter",
         "x": [
          21520,
          21521,
          21520,
          21519,
          21520,
          null
         ],
         "y": [
          3.8,
          4,
          4.2,
          4,
          3.8,
          null
         ]
        },
        {
         "fill": "toself",
         "fillcolor": "#FFA15A",
         "hoverinfo": "x+text",
         "legendgroup": "rz",
         "line": {
          "color": "black"
         },
         "marker": {
          "size": 0.01
         },
         "mode": "lines+markers",
         "name": "rz",
         "showlegend": false,
         "text": "Instruction: rz_0<br>Pulse: shift_phase<br>Start: 21640<br>Finish: 21640<br>Duration: 0",
         "type": "scatter",
         "x": [
          21640,
          21641,
          21640,
          21639,
          21640,
          null
         ],
         "y": [
          3.8,
          4,
          4.2,
          4,
          3.8,
          null
         ]
        },
        {
         "fill": "toself",
         "fillcolor": "#FFA15A",
         "hoverinfo": "x+text",
         "legendgroup": "rz",
         "line": {
          "color": "black"
         },
         "marker": {
          "size": 0.01
         },
         "mode": "lines+markers",
         "name": "rz",
         "showlegend": false,
         "text": "Instruction: rz_0<br>Pulse: shift_phase<br>Start: 20080<br>Finish: 20080<br>Duration: 0",
         "type": "scatter",
         "x": [
          20080,
          20081,
          20080,
          20079,
          20080,
          null
         ],
         "y": [
          3.8,
          4,
          4.2,
          4,
          3.8,
          null
         ]
        },
        {
         "fill": "toself",
         "fillcolor": "#19D3F3",
         "hoverinfo": "x+text",
         "legendgroup": "sx",
         "line": {
          "color": "black"
         },
         "marker": {
          "size": 0.01
         },
         "mode": "lines+markers",
         "name": "sx",
         "showlegend": false,
         "text": "Instruction: sx_1<br>Pulse: shift_phase<br>Start: 21640<br>Finish: 21640<br>Duration: 0",
         "type": "scatter",
         "x": [
          21640,
          21641,
          21640,
          21639,
          21640,
          null
         ],
         "y": [
          4.8,
          5,
          5.2,
          5,
          4.8,
          null
         ]
        },
        {
         "fill": "toself",
         "fillcolor": "#FFA15A",
         "hoverinfo": "x+text",
         "legendgroup": "rz",
         "line": {
          "color": "black"
         },
         "marker": {
          "size": 0.01
         },
         "mode": "lines+markers",
         "name": "rz",
         "showlegend": false,
         "text": "Instruction: rz_1<br>Pulse: shift_phase<br>Start: 21520<br>Finish: 21520<br>Duration: 0",
         "type": "scatter",
         "x": [
          21520,
          21521,
          21520,
          21519,
          21520,
          null
         ],
         "y": [
          4.8,
          5,
          5.2,
          5,
          4.8,
          null
         ]
        },
        {
         "fill": "toself",
         "fillcolor": "#FFA15A",
         "hoverinfo": "x+text",
         "legendgroup": "rz",
         "line": {
          "color": "black"
         },
         "marker": {
          "size": 0.01
         },
         "mode": "lines+markers",
         "name": "rz",
         "showlegend": false,
         "text": "Instruction: rz_1<br>Pulse: shift_phase<br>Start: 21640<br>Finish: 21640<br>Duration: 0",
         "type": "scatter",
         "x": [
          21640,
          21641,
          21640,
          21639,
          21640,
          null
         ],
         "y": [
          4.8,
          5,
          5.2,
          5,
          4.8,
          null
         ]
        },
        {
         "fill": "toself",
         "fillcolor": "#FFA15A",
         "hoverinfo": "x+text",
         "legendgroup": "rz",
         "line": {
          "color": "black"
         },
         "marker": {
          "size": 0.01
         },
         "mode": "lines+markers",
         "name": "rz",
         "showlegend": false,
         "text": "Instruction: rz_1<br>Pulse: shift_phase<br>Start: 20200<br>Finish: 20200<br>Duration: 0",
         "type": "scatter",
         "x": [
          20200,
          20201,
          20200,
          20199,
          20200,
          null
         ],
         "y": [
          4.8,
          5,
          5.2,
          5,
          4.8,
          null
         ]
        },
        {
         "fill": "toself",
         "fillcolor": "#19D3F3",
         "hoverinfo": "x+text",
         "legendgroup": "sx",
         "line": {
          "color": "black"
         },
         "marker": {
          "size": 0.01
         },
         "mode": "lines+markers",
         "name": "sx",
         "showlegend": false,
         "text": "Instruction: sx_1<br>Pulse: shift_phase<br>Start: 20200<br>Finish: 20200<br>Duration: 0",
         "type": "scatter",
         "x": [
          20200,
          20201,
          20200,
          20199,
          20200,
          null
         ],
         "y": [
          4.8,
          5,
          5.2,
          5,
          4.8,
          null
         ]
        },
        {
         "fill": "toself",
         "fillcolor": "#FFA15A",
         "hoverinfo": "x+text",
         "legendgroup": "rz",
         "line": {
          "color": "black"
         },
         "marker": {
          "size": 0.01
         },
         "mode": "lines+markers",
         "name": "rz",
         "showlegend": false,
         "text": "Instruction: rz_1<br>Pulse: shift_phase<br>Start: 20080<br>Finish: 20080<br>Duration: 0",
         "type": "scatter",
         "x": [
          20080,
          20081,
          20080,
          20079,
          20080,
          null
         ],
         "y": [
          4.8,
          5,
          5.2,
          5,
          4.8,
          null
         ]
        }
       ],
       "layout": {
        "annotations": [
         {
          "font": {
           "color": "black",
           "size": 10
          },
          "showarrow": false,
          "text": "measure_capture",
          "textangle": 0,
          "x": 23248,
          "y": 0
         },
         {
          "font": {
           "color": "black",
           "size": 10
          },
          "showarrow": false,
          "text": "measure_capture",
          "textangle": 0,
          "x": 23248,
          "y": 1
         },
         {
          "font": {
           "color": "black",
           "size": 10
          },
          "showarrow": false,
          "text": "measure_play",
          "textangle": 0,
          "x": 22360,
          "y": 2
         },
         {
          "font": {
           "color": "black",
           "size": 10
          },
          "showarrow": false,
          "text": "",
          "textangle": 0,
          "x": 21640,
          "y": 2
         },
         {
          "font": {
           "color": "black",
           "size": 10
          },
          "showarrow": false,
          "text": "sx_play",
          "textangle": 0,
          "x": 21580,
          "y": 2
         },
         {
          "font": {
           "color": "black",
           "size": 10
          },
          "showarrow": false,
          "text": "ecr_play",
          "textangle": 0,
          "x": 21220,
          "y": 2
         },
         {
          "font": {
           "color": "black",
           "size": 10
          },
          "showarrow": false,
          "text": "ecr_play",
          "textangle": 0,
          "x": 20500,
          "y": 2
         },
         {
          "font": {
           "color": "black",
           "size": 10
          },
          "showarrow": false,
          "text": "",
          "textangle": 0,
          "x": 0,
          "y": 2
         },
         {
          "font": {
           "color": "black",
           "size": 10
          },
          "showarrow": false,
          "text": "INIT_play",
          "textangle": 0,
          "x": 10080,
          "y": 2
         },
         {
          "font": {
           "color": "black",
           "size": 10
          },
          "showarrow": false,
          "text": "INIT_play",
          "textangle": 0,
          "x": 10072,
          "y": 2
         },
         {
          "font": {
           "color": "black",
           "size": 10
          },
          "showarrow": false,
          "text": "",
          "textangle": 0,
          "x": 20080,
          "y": 2
         },
         {
          "font": {
           "color": "black",
           "size": 10
          },
          "showarrow": false,
          "text": "sx_play",
          "textangle": 0,
          "x": 20140,
          "y": 2
         },
         {
          "font": {
           "color": "black",
           "size": 10
          },
          "showarrow": false,
          "text": "",
          "textangle": 0,
          "x": 20080,
          "y": 3
         },
         {
          "font": {
           "color": "black",
           "size": 10
          },
          "showarrow": false,
          "text": "sx_play",
          "textangle": 0,
          "x": 21580,
          "y": 3
         },
         {
          "font": {
           "color": "black",
           "size": 10
          },
          "showarrow": false,
          "text": "INIT_play",
          "textangle": 0,
          "x": 10072,
          "y": 3
         },
         {
          "font": {
           "color": "black",
           "size": 10
          },
          "showarrow": false,
          "text": "INIT_play",
          "textangle": 0,
          "x": 10080,
          "y": 3
         },
         {
          "font": {
           "color": "black",
           "size": 10
          },
          "showarrow": false,
          "text": "",
          "textangle": 0,
          "x": 21640,
          "y": 3
         },
         {
          "font": {
           "color": "black",
           "size": 10
          },
          "showarrow": false,
          "text": "",
          "textangle": 0,
          "x": 0,
          "y": 3
         },
         {
          "font": {
           "color": "black",
           "size": 10
          },
          "showarrow": false,
          "text": "ecr_play",
          "textangle": 0,
          "x": 20860,
          "y": 3
         },
         {
          "font": {
           "color": "black",
           "size": 10
          },
          "showarrow": false,
          "text": "sx_play",
          "textangle": 0,
          "x": 20140,
          "y": 3
         },
         {
          "font": {
           "color": "black",
           "size": 10
          },
          "showarrow": false,
          "text": "measure_play",
          "textangle": 0,
          "x": 22360,
          "y": 3
         },
         {
          "font": {
           "color": "black",
           "size": 10
          },
          "showarrow": false,
          "text": "ecr_play",
          "textangle": 0,
          "x": 20500,
          "y": 3
         },
         {
          "font": {
           "color": "black",
           "size": 10
          },
          "showarrow": false,
          "text": "ecr_play",
          "textangle": 0,
          "x": 21220,
          "y": 3
         },
         {
          "font": {
           "color": "black",
           "size": 10
          },
          "showarrow": true,
          "text": "rz_shift_phase",
          "textangle": 0,
          "x": 21640,
          "y": 2
         },
         {
          "font": {
           "color": "black",
           "size": 10
          },
          "showarrow": true,
          "text": "sx_shift_phase",
          "textangle": 0,
          "x": 21640,
          "y": 2
         },
         {
          "font": {
           "color": "black",
           "size": 10
          },
          "showarrow": true,
          "text": "rz_shift_phase",
          "textangle": 0,
          "x": 21520,
          "y": 2
         },
         {
          "font": {
           "color": "black",
           "size": 10
          },
          "showarrow": true,
          "text": "rz_shift_phase",
          "textangle": 0,
          "x": 21640,
          "y": 2
         },
         {
          "font": {
           "color": "black",
           "size": 10
          },
          "showarrow": true,
          "text": "sx_shift_phase",
          "textangle": 0,
          "x": 21640,
          "y": 2
         },
         {
          "font": {
           "color": "black",
           "size": 10
          },
          "showarrow": true,
          "text": "rz_shift_phase",
          "textangle": 0,
          "x": 21520,
          "y": 2
         },
         {
          "font": {
           "color": "black",
           "size": 10
          },
          "showarrow": true,
          "text": "rz_shift_phase",
          "textangle": 0,
          "x": 20200,
          "y": 2
         },
         {
          "font": {
           "color": "black",
           "size": 10
          },
          "showarrow": true,
          "text": "sx_shift_phase",
          "textangle": 0,
          "x": 20200,
          "y": 2
         },
         {
          "font": {
           "color": "black",
           "size": 10
          },
          "showarrow": true,
          "text": "rz_shift_phase",
          "textangle": 0,
          "x": 20080,
          "y": 2
         },
         {
          "font": {
           "color": "black",
           "size": 10
          },
          "showarrow": true,
          "text": "rz_shift_phase",
          "textangle": 0,
          "x": 20080,
          "y": 2
         },
         {
          "font": {
           "color": "black",
           "size": 10
          },
          "showarrow": true,
          "text": "sx_shift_phase",
          "textangle": 0,
          "x": 20200,
          "y": 2
         },
         {
          "font": {
           "color": "black",
           "size": 10
          },
          "showarrow": true,
          "text": "rz_shift_phase",
          "textangle": 0,
          "x": 20080,
          "y": 3
         },
         {
          "font": {
           "color": "black",
           "size": 10
          },
          "showarrow": true,
          "text": "rz_shift_phase",
          "textangle": 0,
          "x": 21520,
          "y": 3
         },
         {
          "font": {
           "color": "black",
           "size": 10
          },
          "showarrow": true,
          "text": "rz_shift_phase",
          "textangle": 0,
          "x": 21640,
          "y": 3
         },
         {
          "font": {
           "color": "black",
           "size": 10
          },
          "showarrow": true,
          "text": "rz_shift_phase",
          "textangle": 0,
          "x": 21640,
          "y": 3
         },
         {
          "font": {
           "color": "black",
           "size": 10
          },
          "showarrow": true,
          "text": "sx_shift_phase",
          "textangle": 0,
          "x": 21640,
          "y": 3
         },
         {
          "font": {
           "color": "black",
           "size": 10
          },
          "showarrow": true,
          "text": "rz_shift_phase",
          "textangle": 0,
          "x": 20080,
          "y": 3
         },
         {
          "font": {
           "color": "black",
           "size": 10
          },
          "showarrow": true,
          "text": "sx_shift_phase",
          "textangle": 0,
          "x": 21640,
          "y": 3
         },
         {
          "font": {
           "color": "black",
           "size": 10
          },
          "showarrow": true,
          "text": "sx_shift_phase",
          "textangle": 0,
          "x": 20200,
          "y": 3
         },
         {
          "font": {
           "color": "black",
           "size": 10
          },
          "showarrow": true,
          "text": "rz_shift_phase",
          "textangle": 0,
          "x": 20200,
          "y": 3
         },
         {
          "font": {
           "color": "black",
           "size": 10
          },
          "showarrow": true,
          "text": "sx_shift_phase",
          "textangle": 0,
          "x": 20200,
          "y": 3
         },
         {
          "font": {
           "color": "black",
           "size": 10
          },
          "showarrow": true,
          "text": "rz_shift_phase",
          "textangle": 0,
          "x": 21520,
          "y": 3
         },
         {
          "font": {
           "color": "black",
           "size": 10
          },
          "showarrow": true,
          "text": "sx_shift_phase",
          "textangle": 0,
          "x": 21640,
          "y": 4
         },
         {
          "font": {
           "color": "black",
           "size": 10
          },
          "showarrow": true,
          "text": "sx_shift_phase",
          "textangle": 0,
          "x": 20200,
          "y": 4
         },
         {
          "font": {
           "color": "black",
           "size": 10
          },
          "showarrow": true,
          "text": "rz_shift_phase",
          "textangle": 0,
          "x": 21520,
          "y": 4
         },
         {
          "font": {
           "color": "black",
           "size": 10
          },
          "showarrow": true,
          "text": "rz_shift_phase",
          "textangle": 0,
          "x": 21640,
          "y": 4
         },
         {
          "font": {
           "color": "black",
           "size": 10
          },
          "showarrow": true,
          "text": "rz_shift_phase",
          "textangle": 0,
          "x": 20080,
          "y": 4
         },
         {
          "font": {
           "color": "black",
           "size": 10
          },
          "showarrow": true,
          "text": "sx_shift_phase",
          "textangle": 0,
          "x": 21640,
          "y": 5
         },
         {
          "font": {
           "color": "black",
           "size": 10
          },
          "showarrow": true,
          "text": "rz_shift_phase",
          "textangle": 0,
          "x": 21520,
          "y": 5
         },
         {
          "font": {
           "color": "black",
           "size": 10
          },
          "showarrow": true,
          "text": "rz_shift_phase",
          "textangle": 0,
          "x": 21640,
          "y": 5
         },
         {
          "font": {
           "color": "black",
           "size": 10
          },
          "showarrow": true,
          "text": "rz_shift_phase",
          "textangle": 0,
          "x": 20200,
          "y": 5
         },
         {
          "font": {
           "color": "black",
           "size": 10
          },
          "showarrow": true,
          "text": "sx_shift_phase",
          "textangle": 0,
          "x": 20200,
          "y": 5
         },
         {
          "font": {
           "color": "black",
           "size": 10
          },
          "showarrow": true,
          "text": "rz_shift_phase",
          "textangle": 0,
          "x": 20080,
          "y": 5
         }
        ],
        "height": 560,
        "paper_bgcolor": "rgba(255,255,255,1)",
        "plot_bgcolor": "rgba(255,255,255,1)",
        "template": {
         "data": {
          "bar": [
           {
            "error_x": {
             "color": "#2a3f5f"
            },
            "error_y": {
             "color": "#2a3f5f"
            },
            "marker": {
             "line": {
              "color": "#E5ECF6",
              "width": 0.5
             },
             "pattern": {
              "fillmode": "overlay",
              "size": 10,
              "solidity": 0.2
             }
            },
            "type": "bar"
           }
          ],
          "barpolar": [
           {
            "marker": {
             "line": {
              "color": "#E5ECF6",
              "width": 0.5
             },
             "pattern": {
              "fillmode": "overlay",
              "size": 10,
              "solidity": 0.2
             }
            },
            "type": "barpolar"
           }
          ],
          "carpet": [
           {
            "aaxis": {
             "endlinecolor": "#2a3f5f",
             "gridcolor": "white",
             "linecolor": "white",
             "minorgridcolor": "white",
             "startlinecolor": "#2a3f5f"
            },
            "baxis": {
             "endlinecolor": "#2a3f5f",
             "gridcolor": "white",
             "linecolor": "white",
             "minorgridcolor": "white",
             "startlinecolor": "#2a3f5f"
            },
            "type": "carpet"
           }
          ],
          "choropleth": [
           {
            "colorbar": {
             "outlinewidth": 0,
             "ticks": ""
            },
            "type": "choropleth"
           }
          ],
          "contour": [
           {
            "colorbar": {
             "outlinewidth": 0,
             "ticks": ""
            },
            "colorscale": [
             [
              0,
              "#0d0887"
             ],
             [
              0.1111111111111111,
              "#46039f"
             ],
             [
              0.2222222222222222,
              "#7201a8"
             ],
             [
              0.3333333333333333,
              "#9c179e"
             ],
             [
              0.4444444444444444,
              "#bd3786"
             ],
             [
              0.5555555555555556,
              "#d8576b"
             ],
             [
              0.6666666666666666,
              "#ed7953"
             ],
             [
              0.7777777777777778,
              "#fb9f3a"
             ],
             [
              0.8888888888888888,
              "#fdca26"
             ],
             [
              1,
              "#f0f921"
             ]
            ],
            "type": "contour"
           }
          ],
          "contourcarpet": [
           {
            "colorbar": {
             "outlinewidth": 0,
             "ticks": ""
            },
            "type": "contourcarpet"
           }
          ],
          "heatmap": [
           {
            "colorbar": {
             "outlinewidth": 0,
             "ticks": ""
            },
            "colorscale": [
             [
              0,
              "#0d0887"
             ],
             [
              0.1111111111111111,
              "#46039f"
             ],
             [
              0.2222222222222222,
              "#7201a8"
             ],
             [
              0.3333333333333333,
              "#9c179e"
             ],
             [
              0.4444444444444444,
              "#bd3786"
             ],
             [
              0.5555555555555556,
              "#d8576b"
             ],
             [
              0.6666666666666666,
              "#ed7953"
             ],
             [
              0.7777777777777778,
              "#fb9f3a"
             ],
             [
              0.8888888888888888,
              "#fdca26"
             ],
             [
              1,
              "#f0f921"
             ]
            ],
            "type": "heatmap"
           }
          ],
          "histogram": [
           {
            "marker": {
             "pattern": {
              "fillmode": "overlay",
              "size": 10,
              "solidity": 0.2
             }
            },
            "type": "histogram"
           }
          ],
          "histogram2d": [
           {
            "colorbar": {
             "outlinewidth": 0,
             "ticks": ""
            },
            "colorscale": [
             [
              0,
              "#0d0887"
             ],
             [
              0.1111111111111111,
              "#46039f"
             ],
             [
              0.2222222222222222,
              "#7201a8"
             ],
             [
              0.3333333333333333,
              "#9c179e"
             ],
             [
              0.4444444444444444,
              "#bd3786"
             ],
             [
              0.5555555555555556,
              "#d8576b"
             ],
             [
              0.6666666666666666,
              "#ed7953"
             ],
             [
              0.7777777777777778,
              "#fb9f3a"
             ],
             [
              0.8888888888888888,
              "#fdca26"
             ],
             [
              1,
              "#f0f921"
             ]
            ],
            "type": "histogram2d"
           }
          ],
          "histogram2dcontour": [
           {
            "colorbar": {
             "outlinewidth": 0,
             "ticks": ""
            },
            "colorscale": [
             [
              0,
              "#0d0887"
             ],
             [
              0.1111111111111111,
              "#46039f"
             ],
             [
              0.2222222222222222,
              "#7201a8"
             ],
             [
              0.3333333333333333,
              "#9c179e"
             ],
             [
              0.4444444444444444,
              "#bd3786"
             ],
             [
              0.5555555555555556,
              "#d8576b"
             ],
             [
              0.6666666666666666,
              "#ed7953"
             ],
             [
              0.7777777777777778,
              "#fb9f3a"
             ],
             [
              0.8888888888888888,
              "#fdca26"
             ],
             [
              1,
              "#f0f921"
             ]
            ],
            "type": "histogram2dcontour"
           }
          ],
          "mesh3d": [
           {
            "colorbar": {
             "outlinewidth": 0,
             "ticks": ""
            },
            "type": "mesh3d"
           }
          ],
          "parcoords": [
           {
            "line": {
             "colorbar": {
              "outlinewidth": 0,
              "ticks": ""
             }
            },
            "type": "parcoords"
           }
          ],
          "pie": [
           {
            "automargin": true,
            "type": "pie"
           }
          ],
          "scatter": [
           {
            "fillpattern": {
             "fillmode": "overlay",
             "size": 10,
             "solidity": 0.2
            },
            "type": "scatter"
           }
          ],
          "scatter3d": [
           {
            "line": {
             "colorbar": {
              "outlinewidth": 0,
              "ticks": ""
             }
            },
            "marker": {
             "colorbar": {
              "outlinewidth": 0,
              "ticks": ""
             }
            },
            "type": "scatter3d"
           }
          ],
          "scattercarpet": [
           {
            "marker": {
             "colorbar": {
              "outlinewidth": 0,
              "ticks": ""
             }
            },
            "type": "scattercarpet"
           }
          ],
          "scattergeo": [
           {
            "marker": {
             "colorbar": {
              "outlinewidth": 0,
              "ticks": ""
             }
            },
            "type": "scattergeo"
           }
          ],
          "scattergl": [
           {
            "marker": {
             "colorbar": {
              "outlinewidth": 0,
              "ticks": ""
             }
            },
            "type": "scattergl"
           }
          ],
          "scattermap": [
           {
            "marker": {
             "colorbar": {
              "outlinewidth": 0,
              "ticks": ""
             }
            },
            "type": "scattermap"
           }
          ],
          "scattermapbox": [
           {
            "marker": {
             "colorbar": {
              "outlinewidth": 0,
              "ticks": ""
             }
            },
            "type": "scattermapbox"
           }
          ],
          "scatterpolar": [
           {
            "marker": {
             "colorbar": {
              "outlinewidth": 0,
              "ticks": ""
             }
            },
            "type": "scatterpolar"
           }
          ],
          "scatterpolargl": [
           {
            "marker": {
             "colorbar": {
              "outlinewidth": 0,
              "ticks": ""
             }
            },
            "type": "scatterpolargl"
           }
          ],
          "scatterternary": [
           {
            "marker": {
             "colorbar": {
              "outlinewidth": 0,
              "ticks": ""
             }
            },
            "type": "scatterternary"
           }
          ],
          "surface": [
           {
            "colorbar": {
             "outlinewidth": 0,
             "ticks": ""
            },
            "colorscale": [
             [
              0,
              "#0d0887"
             ],
             [
              0.1111111111111111,
              "#46039f"
             ],
             [
              0.2222222222222222,
              "#7201a8"
             ],
             [
              0.3333333333333333,
              "#9c179e"
             ],
             [
              0.4444444444444444,
              "#bd3786"
             ],
             [
              0.5555555555555556,
              "#d8576b"
             ],
             [
              0.6666666666666666,
              "#ed7953"
             ],
             [
              0.7777777777777778,
              "#fb9f3a"
             ],
             [
              0.8888888888888888,
              "#fdca26"
             ],
             [
              1,
              "#f0f921"
             ]
            ],
            "type": "surface"
           }
          ],
          "table": [
           {
            "cells": {
             "fill": {
              "color": "#EBF0F8"
             },
             "line": {
              "color": "white"
             }
            },
            "header": {
             "fill": {
              "color": "#C8D4E3"
             },
             "line": {
              "color": "white"
             }
            },
            "type": "table"
           }
          ]
         },
         "layout": {
          "annotationdefaults": {
           "arrowcolor": "#2a3f5f",
           "arrowhead": 0,
           "arrowwidth": 1
          },
          "autotypenumbers": "strict",
          "coloraxis": {
           "colorbar": {
            "outlinewidth": 0,
            "ticks": ""
           }
          },
          "colorscale": {
           "diverging": [
            [
             0,
             "#8e0152"
            ],
            [
             0.1,
             "#c51b7d"
            ],
            [
             0.2,
             "#de77ae"
            ],
            [
             0.3,
             "#f1b6da"
            ],
            [
             0.4,
             "#fde0ef"
            ],
            [
             0.5,
             "#f7f7f7"
            ],
            [
             0.6,
             "#e6f5d0"
            ],
            [
             0.7,
             "#b8e186"
            ],
            [
             0.8,
             "#7fbc41"
            ],
            [
             0.9,
             "#4d9221"
            ],
            [
             1,
             "#276419"
            ]
           ],
           "sequential": [
            [
             0,
             "#0d0887"
            ],
            [
             0.1111111111111111,
             "#46039f"
            ],
            [
             0.2222222222222222,
             "#7201a8"
            ],
            [
             0.3333333333333333,
             "#9c179e"
            ],
            [
             0.4444444444444444,
             "#bd3786"
            ],
            [
             0.5555555555555556,
             "#d8576b"
            ],
            [
             0.6666666666666666,
             "#ed7953"
            ],
            [
             0.7777777777777778,
             "#fb9f3a"
            ],
            [
             0.8888888888888888,
             "#fdca26"
            ],
            [
             1,
             "#f0f921"
            ]
           ],
           "sequentialminus": [
            [
             0,
             "#0d0887"
            ],
            [
             0.1111111111111111,
             "#46039f"
            ],
            [
             0.2222222222222222,
             "#7201a8"
            ],
            [
             0.3333333333333333,
             "#9c179e"
            ],
            [
             0.4444444444444444,
             "#bd3786"
            ],
            [
             0.5555555555555556,
             "#d8576b"
            ],
            [
             0.6666666666666666,
             "#ed7953"
            ],
            [
             0.7777777777777778,
             "#fb9f3a"
            ],
            [
             0.8888888888888888,
             "#fdca26"
            ],
            [
             1,
             "#f0f921"
            ]
           ]
          },
          "colorway": [
           "#636efa",
           "#EF553B",
           "#00cc96",
           "#ab63fa",
           "#FFA15A",
           "#19d3f3",
           "#FF6692",
           "#B6E880",
           "#FF97FF",
           "#FECB52"
          ],
          "font": {
           "color": "#2a3f5f"
          },
          "geo": {
           "bgcolor": "white",
           "lakecolor": "white",
           "landcolor": "#E5ECF6",
           "showlakes": true,
           "showland": true,
           "subunitcolor": "white"
          },
          "hoverlabel": {
           "align": "left"
          },
          "hovermode": "closest",
          "mapbox": {
           "style": "light"
          },
          "paper_bgcolor": "white",
          "plot_bgcolor": "#E5ECF6",
          "polar": {
           "angularaxis": {
            "gridcolor": "white",
            "linecolor": "white",
            "ticks": ""
           },
           "bgcolor": "#E5ECF6",
           "radialaxis": {
            "gridcolor": "white",
            "linecolor": "white",
            "ticks": ""
           }
          },
          "scene": {
           "xaxis": {
            "backgroundcolor": "#E5ECF6",
            "gridcolor": "white",
            "gridwidth": 2,
            "linecolor": "white",
            "showbackground": true,
            "ticks": "",
            "zerolinecolor": "white"
           },
           "yaxis": {
            "backgroundcolor": "#E5ECF6",
            "gridcolor": "white",
            "gridwidth": 2,
            "linecolor": "white",
            "showbackground": true,
            "ticks": "",
            "zerolinecolor": "white"
           },
           "zaxis": {
            "backgroundcolor": "#E5ECF6",
            "gridcolor": "white",
            "gridwidth": 2,
            "linecolor": "white",
            "showbackground": true,
            "ticks": "",
            "zerolinecolor": "white"
           }
          },
          "shapedefaults": {
           "line": {
            "color": "#2a3f5f"
           }
          },
          "ternary": {
           "aaxis": {
            "gridcolor": "white",
            "linecolor": "white",
            "ticks": ""
           },
           "baxis": {
            "gridcolor": "white",
            "linecolor": "white",
            "ticks": ""
           },
           "bgcolor": "#E5ECF6",
           "caxis": {
            "gridcolor": "white",
            "linecolor": "white",
            "ticks": ""
           }
          },
          "title": {
           "x": 0.05
          },
          "xaxis": {
           "automargin": true,
           "gridcolor": "white",
           "linecolor": "white",
           "ticks": "",
           "title": {
            "standoff": 15
           },
           "zerolinecolor": "white",
           "zerolinewidth": 2
          },
          "yaxis": {
           "automargin": true,
           "gridcolor": "white",
           "linecolor": "white",
           "ticks": "",
           "title": {
            "standoff": 15
           },
           "zerolinecolor": "white",
           "zerolinewidth": 2
          }
         }
        },
        "title": {
         "font": {
          "size": 20
         },
         "text": "Payload Schedule",
         "x": 0.5
        },
        "updatemenus": [
         {
          "buttons": [
           {
            "args": [
             {
              "annotations": [
               {
                "font": {
                 "color": "black",
                 "size": 10
                },
                "showarrow": false,
                "text": "measure_capture",
                "textangle": 0,
                "x": 23248,
                "y": 0
               },
               {
                "font": {
                 "color": "black",
                 "size": 10
                },
                "showarrow": false,
                "text": "measure_capture",
                "textangle": 0,
                "x": 23248,
                "y": 1
               },
               {
                "font": {
                 "color": "black",
                 "size": 10
                },
                "showarrow": false,
                "text": "measure_play",
                "textangle": 0,
                "x": 22360,
                "y": 2
               },
               {
                "font": {
                 "color": "black",
                 "size": 10
                },
                "showarrow": false,
                "text": "",
                "textangle": 0,
                "x": 21640,
                "y": 2
               },
               {
                "font": {
                 "color": "black",
                 "size": 10
                },
                "showarrow": false,
                "text": "sx_play",
                "textangle": 0,
                "x": 21580,
                "y": 2
               },
               {
                "font": {
                 "color": "black",
                 "size": 10
                },
                "showarrow": false,
                "text": "ecr_play",
                "textangle": 0,
                "x": 21220,
                "y": 2
               },
               {
                "font": {
                 "color": "black",
                 "size": 10
                },
                "showarrow": false,
                "text": "ecr_play",
                "textangle": 0,
                "x": 20500,
                "y": 2
               },
               {
                "font": {
                 "color": "black",
                 "size": 10
                },
                "showarrow": false,
                "text": "",
                "textangle": 0,
                "x": 0,
                "y": 2
               },
               {
                "font": {
                 "color": "black",
                 "size": 10
                },
                "showarrow": false,
                "text": "INIT_play",
                "textangle": 0,
                "x": 10080,
                "y": 2
               },
               {
                "font": {
                 "color": "black",
                 "size": 10
                },
                "showarrow": false,
                "text": "INIT_play",
                "textangle": 0,
                "x": 10072,
                "y": 2
               },
               {
                "font": {
                 "color": "black",
                 "size": 10
                },
                "showarrow": false,
                "text": "",
                "textangle": 0,
                "x": 20080,
                "y": 2
               },
               {
                "font": {
                 "color": "black",
                 "size": 10
                },
                "showarrow": false,
                "text": "sx_play",
                "textangle": 0,
                "x": 20140,
                "y": 2
               },
               {
                "font": {
                 "color": "black",
                 "size": 10
                },
                "showarrow": false,
                "text": "",
                "textangle": 0,
                "x": 20080,
                "y": 3
               },
               {
                "font": {
                 "color": "black",
                 "size": 10
                },
                "showarrow": false,
                "text": "sx_play",
                "textangle": 0,
                "x": 21580,
                "y": 3
               },
               {
                "font": {
                 "color": "black",
                 "size": 10
                },
                "showarrow": false,
                "text": "INIT_play",
                "textangle": 0,
                "x": 10072,
                "y": 3
               },
               {
                "font": {
                 "color": "black",
                 "size": 10
                },
                "showarrow": false,
                "text": "INIT_play",
                "textangle": 0,
                "x": 10080,
                "y": 3
               },
               {
                "font": {
                 "color": "black",
                 "size": 10
                },
                "showarrow": false,
                "text": "",
                "textangle": 0,
                "x": 21640,
                "y": 3
               },
               {
                "font": {
                 "color": "black",
                 "size": 10
                },
                "showarrow": false,
                "text": "",
                "textangle": 0,
                "x": 0,
                "y": 3
               },
               {
                "font": {
                 "color": "black",
                 "size": 10
                },
                "showarrow": false,
                "text": "ecr_play",
                "textangle": 0,
                "x": 20860,
                "y": 3
               },
               {
                "font": {
                 "color": "black",
                 "size": 10
                },
                "showarrow": false,
                "text": "sx_play",
                "textangle": 0,
                "x": 20140,
                "y": 3
               },
               {
                "font": {
                 "color": "black",
                 "size": 10
                },
                "showarrow": false,
                "text": "measure_play",
                "textangle": 0,
                "x": 22360,
                "y": 3
               },
               {
                "font": {
                 "color": "black",
                 "size": 10
                },
                "showarrow": false,
                "text": "ecr_play",
                "textangle": 0,
                "x": 20500,
                "y": 3
               },
               {
                "font": {
                 "color": "black",
                 "size": 10
                },
                "showarrow": false,
                "text": "ecr_play",
                "textangle": 0,
                "x": 21220,
                "y": 3
               },
               {
                "font": {
                 "color": "black",
                 "size": 10
                },
                "showarrow": true,
                "text": "rz_shift_phase",
                "textangle": 0,
                "x": 21640,
                "y": 2
               },
               {
                "font": {
                 "color": "black",
                 "size": 10
                },
                "showarrow": true,
                "text": "sx_shift_phase",
                "textangle": 0,
                "x": 21640,
                "y": 2
               },
               {
                "font": {
                 "color": "black",
                 "size": 10
                },
                "showarrow": true,
                "text": "rz_shift_phase",
                "textangle": 0,
                "x": 21520,
                "y": 2
               },
               {
                "font": {
                 "color": "black",
                 "size": 10
                },
                "showarrow": true,
                "text": "rz_shift_phase",
                "textangle": 0,
                "x": 21640,
                "y": 2
               },
               {
                "font": {
                 "color": "black",
                 "size": 10
                },
                "showarrow": true,
                "text": "sx_shift_phase",
                "textangle": 0,
                "x": 21640,
                "y": 2
               },
               {
                "font": {
                 "color": "black",
                 "size": 10
                },
                "showarrow": true,
                "text": "rz_shift_phase",
                "textangle": 0,
                "x": 21520,
                "y": 2
               },
               {
                "font": {
                 "color": "black",
                 "size": 10
                },
                "showarrow": true,
                "text": "rz_shift_phase",
                "textangle": 0,
                "x": 20200,
                "y": 2
               },
               {
                "font": {
                 "color": "black",
                 "size": 10
                },
                "showarrow": true,
                "text": "sx_shift_phase",
                "textangle": 0,
                "x": 20200,
                "y": 2
               },
               {
                "font": {
                 "color": "black",
                 "size": 10
                },
                "showarrow": true,
                "text": "rz_shift_phase",
                "textangle": 0,
                "x": 20080,
                "y": 2
               },
               {
                "font": {
                 "color": "black",
                 "size": 10
                },
                "showarrow": true,
                "text": "rz_shift_phase",
                "textangle": 0,
                "x": 20080,
                "y": 2
               },
               {
                "font": {
                 "color": "black",
                 "size": 10
                },
                "showarrow": true,
                "text": "sx_shift_phase",
                "textangle": 0,
                "x": 20200,
                "y": 2
               },
               {
                "font": {
                 "color": "black",
                 "size": 10
                },
                "showarrow": true,
                "text": "rz_shift_phase",
                "textangle": 0,
                "x": 20080,
                "y": 3
               },
               {
                "font": {
                 "color": "black",
                 "size": 10
                },
                "showarrow": true,
                "text": "rz_shift_phase",
                "textangle": 0,
                "x": 21520,
                "y": 3
               },
               {
                "font": {
                 "color": "black",
                 "size": 10
                },
                "showarrow": true,
                "text": "rz_shift_phase",
                "textangle": 0,
                "x": 21640,
                "y": 3
               },
               {
                "font": {
                 "color": "black",
                 "size": 10
                },
                "showarrow": true,
                "text": "rz_shift_phase",
                "textangle": 0,
                "x": 21640,
                "y": 3
               },
               {
                "font": {
                 "color": "black",
                 "size": 10
                },
                "showarrow": true,
                "text": "sx_shift_phase",
                "textangle": 0,
                "x": 21640,
                "y": 3
               },
               {
                "font": {
                 "color": "black",
                 "size": 10
                },
                "showarrow": true,
                "text": "rz_shift_phase",
                "textangle": 0,
                "x": 20080,
                "y": 3
               },
               {
                "font": {
                 "color": "black",
                 "size": 10
                },
                "showarrow": true,
                "text": "sx_shift_phase",
                "textangle": 0,
                "x": 21640,
                "y": 3
               },
               {
                "font": {
                 "color": "black",
                 "size": 10
                },
                "showarrow": true,
                "text": "sx_shift_phase",
                "textangle": 0,
                "x": 20200,
                "y": 3
               },
               {
                "font": {
                 "color": "black",
                 "size": 10
                },
                "showarrow": true,
                "text": "rz_shift_phase",
                "textangle": 0,
                "x": 20200,
                "y": 3
               },
               {
                "font": {
                 "color": "black",
                 "size": 10
                },
                "showarrow": true,
                "text": "sx_shift_phase",
                "textangle": 0,
                "x": 20200,
                "y": 3
               },
               {
                "font": {
                 "color": "black",
                 "size": 10
                },
                "showarrow": true,
                "text": "rz_shift_phase",
                "textangle": 0,
                "x": 21520,
                "y": 3
               },
               {
                "font": {
                 "color": "black",
                 "size": 10
                },
                "showarrow": true,
                "text": "sx_shift_phase",
                "textangle": 0,
                "x": 21640,
                "y": 4
               },
               {
                "font": {
                 "color": "black",
                 "size": 10
                },
                "showarrow": true,
                "text": "sx_shift_phase",
                "textangle": 0,
                "x": 20200,
                "y": 4
               },
               {
                "font": {
                 "color": "black",
                 "size": 10
                },
                "showarrow": true,
                "text": "rz_shift_phase",
                "textangle": 0,
                "x": 21520,
                "y": 4
               },
               {
                "font": {
                 "color": "black",
                 "size": 10
                },
                "showarrow": true,
                "text": "rz_shift_phase",
                "textangle": 0,
                "x": 21640,
                "y": 4
               },
               {
                "font": {
                 "color": "black",
                 "size": 10
                },
                "showarrow": true,
                "text": "rz_shift_phase",
                "textangle": 0,
                "x": 20080,
                "y": 4
               },
               {
                "font": {
                 "color": "black",
                 "size": 10
                },
                "showarrow": true,
                "text": "sx_shift_phase",
                "textangle": 0,
                "x": 21640,
                "y": 5
               },
               {
                "font": {
                 "color": "black",
                 "size": 10
                },
                "showarrow": true,
                "text": "rz_shift_phase",
                "textangle": 0,
                "x": 21520,
                "y": 5
               },
               {
                "font": {
                 "color": "black",
                 "size": 10
                },
                "showarrow": true,
                "text": "rz_shift_phase",
                "textangle": 0,
                "x": 21640,
                "y": 5
               },
               {
                "font": {
                 "color": "black",
                 "size": 10
                },
                "showarrow": true,
                "text": "rz_shift_phase",
                "textangle": 0,
                "x": 20200,
                "y": 5
               },
               {
                "font": {
                 "color": "black",
                 "size": 10
                },
                "showarrow": true,
                "text": "sx_shift_phase",
                "textangle": 0,
                "x": 20200,
                "y": 5
               },
               {
                "font": {
                 "color": "black",
                 "size": 10
                },
                "showarrow": true,
                "text": "rz_shift_phase",
                "textangle": 0,
                "x": 20080,
                "y": 5
               }
              ]
             }
            ],
            "label": "Show Annotations",
            "method": "relayout"
           },
           {
            "args": [
             {
              "annotations": []
             }
            ],
            "label": "Hide Annotations",
            "method": "relayout"
           }
          ],
          "direction": "down",
          "pad": {
           "r": 10,
           "t": 10
          },
          "showactive": true,
          "type": "dropdown",
          "x": 0,
          "xanchor": "left",
          "y": 1.1,
          "yanchor": "top"
         }
        ],
        "width": 1000,
        "xaxis": {
         "linecolor": "black",
         "linewidth": 1,
         "mirror": true,
         "range": [
          0,
          24049
         ],
         "rangeslider": {
          "visible": true
         },
         "showline": true,
         "title": {
          "text": "Cycles"
         },
         "type": "linear"
        },
        "yaxis": {
         "gridcolor": "rgba(38,38,38,0.15)",
         "linecolor": "black",
         "linewidth": 1,
         "mirror": true,
         "showline": true,
         "tickmode": "array",
         "ticktext": [
          "AWGRC_8",
          "AWGRM_4",
          "Qubit 0",
          "Qubit 1",
          "Qubit 14",
          "Qubit 2"
         ],
         "tickvals": [
          0,
          1,
          2,
          3,
          4,
          5
         ],
         "title": {
          "text": "Channels"
         }
        }
       }
      },
      "text/plain": [
       "<Image src=\"/docs/images/guides/visualize-circuit-timing/extracted-outputs/4ad3acfb-0.avif\" alt=\"Output of the previous code cell\" />"
      ]
     },
     "metadata": {},
     "output_type": "display_data"
    }
   ],
   "source": [
    "from qiskit_ibm_runtime.visualization import draw_circuit_schedule_timing\n",
    "\n",
    "# Create a figure from the metadata\n",
    "fig = draw_circuit_schedule_timing(\n",
    "    circuit_schedule=circuit_schedule_timing,\n",
    "    included_channels=None,\n",
    "    filter_readout_channels=False,\n",
    "    filter_barriers=False,\n",
    "    width=1000,\n",
    ")\n",
    "\n",
    "# Display the figure\n",
    "fig.show()\n",
    "\n",
    "# Save to a file\n",
    "# fig.write_html(\"scheduler_timing.html\")"
   ]
  },
  {
   "cell_type": "markdown",
   "id": "323a7d38",
   "metadata": {},
   "source": [
    "#### Understand the generated figure\n",
    "\n",
    "The image of the circuit timing data output by `draw_circuit_schedule_timing` conveys the following information:\n",
    "\n",
    "- X axis is time in units of _dt_ seconds,  where 1 dt = 1 scheduling cycle. You can find the `dt` value of a backend by using [`backend.dt`](/docs/api/qiskit/qiskit.providers.BackendV2#dt).\n",
    "- Y axis is the channel (think of channels as instruments that emit pulses).\n",
    "    - `Receive channel` - The only channel that isn't an instrument by itself. It is an instruction played on all channels that are part of a communication procedure with the hub at that time.\n",
    "    - `Qubit x` - The drive channel for qubit x.\n",
    "    - `AWGRx_y` (arbitrary waveform generator readout) - Used by readout channels to communicate when measuring qubits. The _x_ and _y_ arguments correspond to the readout instrument ID and the qubit number, respectively.\n",
    "    - `Hub` - Controls broadcasting.\n",
    "\n",
    "Additionally, each instruction has the format of *X_Y*, where *X* is the name of the instruction and *Y* is the pulse type. A `play` type applies control pulses, and a `capture` records the qubit's state. You can also hover over each instruction to get more details. For example, the following figure shows a control pulse for the X gate applied to qubit 10 at 1161 dt:\n",
    "\n",
    "![Hovering over the output shows information such as the start, finish, and duration.](/docs/images/guides/visualize-circuit-timing/hover.svg 'Hovering over the figure for more details')"
   ]
  },
  {
   "cell_type": "markdown",
   "id": "86af09ca",
   "metadata": {},
   "source": [
    "### End-to-end example\n",
    "\n",
    "This example shows you how to enable the option, get the circuit timing information from the metadata, and display it as an image.\n",
    "\n",
    "First, set up the environment, define the circuits and convert them to ISA circuits, and define and run the jobs."
   ]
  },
  {
   "cell_type": "code",
   "execution_count": 18,
   "id": "b46908a0",
   "metadata": {
    "tags": [
     "ignore-warnings"
    ]
   },
   "outputs": [
    {
     "name": "stderr",
     "output_type": "stream",
     "text": [
      "management.get:WARNING:2025-10-21 18:03:47,991: Loading default saved account\n",
      "qiskit_runtime_service.__init__:WARNING:2025-10-21 18:03:54,905: Instance was not set at service instantiation. Free and trial plan instances will be prioritized. Based on the following filters: (tags: None, region: us-east, eu-de), and available plans: (internal, premium), the available account instances are: Documentation premium fleet, Documentation internal fleet, Documentation premium fleet, Documentation internal fleet. If you need a specific instance set it explicitly either by using a saved account with a saved default instance or passing it in directly to QiskitRuntimeService().\n",
      "qiskit_runtime_service.backends:WARNING:2025-10-21 18:03:54,908: Using instance: Documentation premium fleet, plan: premium\n"
     ]
    },
    {
     "name": "stdout",
     "output_type": "stream",
     "text": [
      ">>>  Job ID:    d3s12n1sg33c73dctt8g (DONE)\n"
     ]
    }
   ],
   "source": [
    "from qiskit_ibm_runtime import SamplerV2, QiskitRuntimeService\n",
    "from qiskit.circuit import QuantumCircuit, QuantumRegister, ClassicalRegister\n",
    "from qiskit.transpiler import generate_preset_pass_manager\n",
    "\n",
    "service = QiskitRuntimeService()\n",
    "# backend = service.least_busy(operational=True, simulator=False)\n",
    "backend = service.backend(\"ibm_brisbane\")\n",
    "\n",
    "# Create a dynamic circuit\n",
    "\n",
    "qubits = QuantumRegister(1)\n",
    "clbits = ClassicalRegister(1)\n",
    "qc = QuantumCircuit(qubits, clbits)\n",
    "(q0,) = qubits\n",
    "(c0,) = clbits\n",
    "\n",
    "qc.h(q0)\n",
    "qc.measure(q0, c0)\n",
    "with qc.if_test((c0, 1)):\n",
    "    qc.x(q0)\n",
    "qc.measure(q0, c0)\n",
    "\n",
    "# Convert to an ISA circuit for the given backend\n",
    "\n",
    "pm = generate_preset_pass_manager(backend=backend, optimization_level=1)\n",
    "isa_circuit = pm.run(qc)\n",
    "\n",
    "# Generate samplers for backend targets\n",
    "sampler = SamplerV2(backend)\n",
    "sampler.options.experimental = {\"execution\": {\"scheduler_timing\": True}}\n",
    "\n",
    "# Submit jobs\n",
    "sampler_job = sampler.run([isa_circuit])\n",
    "result = sampler_job.result()\n",
    "\n",
    "print(\n",
    "    f\">>> {' Job ID:':<10}  {sampler_job.job_id()} ({sampler_job.status()})\"\n",
    ")"
   ]
  },
  {
   "cell_type": "markdown",
   "id": "1bd5993c",
   "metadata": {},
   "source": [
    "Next, get the circuit schedule timing:"
   ]
  },
  {
   "cell_type": "code",
   "execution_count": 19,
   "id": "7e943812",
   "metadata": {},
   "outputs": [
    {
     "data": {
      "text/plain": [
       "'main,barrier,Qubit 0,0,0,barrier\\nmain,INIT_0,Qubit 0,80,20000,play\\nmain,INIT_0,Qubit 0,72,20000,play\\nmain,barrier,Qubit 0,20080,0,barrier\\nmain,rz_0,Qubit 1,20080,0,shift_phase\\nmain,rz_0,Qubit 14,20080,0,shift_phase\\nmain,rz_0,Qubit 0,20080,0,shift_phase\\nmain,sx_0,Qubit 0,20080,120,play\\nmain,sx_0,Qubit 1,20200,0,shift_phase\\nmain,sx_0,Qubit 14,20200,0,shift_phase\\nmain,sx_0,Qubit 0,20200,0,shift_phase\\nmain,rz_0,Qubit 1,20200,0,shift_phase\\nmain,rz_0,Qubit 14,20200,0,shift_phase\\nmain,rz_0,Qubit 0,20200,0,shift_phase\\nmain,barrier,Qubit 0,20200,0,barrier\\nmain,measure_0,Qubit 0,20200,1440,play\\nmain,measure_0,AWGRM_4,21008,1600,capture\\nmain,barrier,Qubit 0,24176,0,barrier\\nmain,broadcast,Hub,21008,3168,broadcast\\nmain,receive,Receive,24176,56,receive\\nthen,x_0,Qubit 0,24296,120,play\\nmain,barrier,Qubit 0,24488,0,barrier\\nmain,measure_0,Qubit 0,24488,1440,play\\nmain,measure_0,AWGRM_4,25296,1600,capture\\nmain,barrier,Qubit 0,27088,0,barrier\\n'"
      ]
     },
     "execution_count": 19,
     "metadata": {},
     "output_type": "execute_result"
    }
   ],
   "source": [
    "# Get the circuit schedule timing\n",
    "result[0].metadata[\"compilation\"][\"scheduler_timing\"][\"timing\"]"
   ]
  },
  {
   "cell_type": "markdown",
   "id": "04db1f41",
   "metadata": {},
   "source": [
    "Finally, you can visualize and save the timing:"
   ]
  },
  {
   "cell_type": "code",
   "execution_count": 20,
   "id": "9d1901c3",
   "metadata": {},
   "outputs": [
    {
     "data": {
      "application/vnd.plotly.v1+json": {
       "config": {
        "plotlyServerURL": "https://plot.ly"
       },
       "data": [
        {
         "fill": "toself",
         "fillcolor": "#AB63FA",
         "hoverinfo": "x+text",
         "legendgroup": "measure",
         "line": {
          "color": "black"
         },
         "marker": {
          "size": 0.01
         },
         "mode": "lines+markers",
         "name": "measure",
         "showlegend": true,
         "text": "Instruction: measure_0<br>Pulse: capture<br>Start: 21008<br>Finish: 22608<br>Duration: 1600",
         "type": "scatter",
         "x": [
          21008,
          21808,
          22608,
          22608,
          21808,
          21008,
          21008,
          null
         ],
         "y": [
          -0.4,
          -0.4,
          -0.4,
          0.4,
          0.4,
          0.4,
          -0.4,
          null
         ]
        },
        {
         "fill": "toself",
         "fillcolor": "#AB63FA",
         "hoverinfo": "x+text",
         "legendgroup": "measure",
         "line": {
          "color": "black"
         },
         "marker": {
          "size": 0.01
         },
         "mode": "lines+markers",
         "name": "measure",
         "showlegend": false,
         "text": "Instruction: measure_0<br>Pulse: capture<br>Start: 25296<br>Finish: 26896<br>Duration: 1600",
         "type": "scatter",
         "x": [
          25296,
          26096,
          26896,
          26896,
          26096,
          25296,
          25296,
          null
         ],
         "y": [
          -0.4,
          -0.4,
          -0.4,
          0.4,
          0.4,
          0.4,
          -0.4,
          null
         ]
        },
        {
         "fill": "toself",
         "fillcolor": "#00CC96",
         "hoverinfo": "x+text",
         "legendgroup": "broadcast",
         "line": {
          "color": "black"
         },
         "marker": {
          "size": 0.01
         },
         "mode": "lines+markers",
         "name": "broadcast",
         "showlegend": true,
         "text": "Instruction: broadcast<br>Pulse: broadcast<br>Start: 21008<br>Finish: 24176<br>Duration: 3168",
         "type": "scatter",
         "x": [
          21008,
          22592,
          24176,
          24176,
          22592,
          21008,
          21008,
          null
         ],
         "y": [
          0.6,
          0.6,
          0.6,
          1.4,
          1.4,
          1.4,
          0.6,
          null
         ]
        },
        {
         "fill": "toself",
         "fillcolor": "#EF553B",
         "hoverinfo": "x+text",
         "legendgroup": "barrier",
         "line": {
          "color": "black"
         },
         "marker": {
          "size": 0.01
         },
         "mode": "lines+markers",
         "name": "barrier",
         "showlegend": true,
         "text": "Instruction: barrier<br>Pulse: barrier<br>Start: 0<br>Finish: 0<br>Duration: 0",
         "type": "scatter",
         "x": [
          0,
          0,
          0,
          0,
          0,
          0,
          0,
          null
         ],
         "y": [
          1.6,
          1.6,
          1.6,
          2.4,
          2.4,
          2.4,
          1.6,
          null
         ]
        },
        {
         "fill": "toself",
         "fillcolor": "#AB63FA",
         "hoverinfo": "x+text",
         "legendgroup": "measure",
         "line": {
          "color": "black"
         },
         "marker": {
          "size": 0.01
         },
         "mode": "lines+markers",
         "name": "measure",
         "showlegend": false,
         "text": "Instruction: measure_0<br>Pulse: play<br>Start: 24488<br>Finish: 25928<br>Duration: 1440",
         "type": "scatter",
         "x": [
          24488,
          25208,
          25928,
          25928,
          25208,
          24488,
          24488,
          null
         ],
         "y": [
          1.6,
          1.6,
          1.6,
          2.4,
          2.4,
          2.4,
          1.6,
          null
         ]
        },
        {
         "fill": "toself",
         "fillcolor": "#EF553B",
         "hoverinfo": "x+text",
         "legendgroup": "barrier",
         "line": {
          "color": "black"
         },
         "marker": {
          "size": 0.01
         },
         "mode": "lines+markers",
         "name": "barrier",
         "showlegend": false,
         "text": "Instruction: barrier<br>Pulse: barrier<br>Start: 24488<br>Finish: 24488<br>Duration: 0",
         "type": "scatter",
         "x": [
          24488,
          24488,
          24488,
          24488,
          24488,
          24488,
          24488,
          null
         ],
         "y": [
          1.6,
          1.6,
          1.6,
          2.4,
          2.4,
          2.4,
          1.6,
          null
         ]
        },
        {
         "fill": "toself",
         "fillcolor": "#B6E880",
         "hoverinfo": "x+text",
         "legendgroup": "x",
         "line": {
          "color": "black"
         },
         "marker": {
          "size": 0.01
         },
         "mode": "lines+markers",
         "name": "x",
         "showlegend": true,
         "text": "Instruction: x_0<br>Pulse: play<br>Start: 24296<br>Finish: 24416<br>Duration: 120",
         "type": "scatter",
         "x": [
          24296,
          24356,
          24416,
          24416,
          24356,
          24296,
          24296,
          null
         ],
         "y": [
          2,
          2,
          2,
          2.4,
          2.4,
          2.4,
          2,
          null
         ]
        },
        {
         "fill": "toself",
         "fillcolor": "#EF553B",
         "hoverinfo": "x+text",
         "legendgroup": "barrier",
         "line": {
          "color": "black"
         },
         "marker": {
          "size": 0.01
         },
         "mode": "lines+markers",
         "name": "barrier",
         "showlegend": false,
         "text": "Instruction: barrier<br>Pulse: barrier<br>Start: 24176<br>Finish: 24176<br>Duration: 0",
         "type": "scatter",
         "x": [
          24176,
          24176,
          24176,
          24176,
          24176,
          24176,
          24176,
          null
         ],
         "y": [
          1.6,
          1.6,
          1.6,
          2.4,
          2.4,
          2.4,
          1.6,
          null
         ]
        },
        {
         "fill": "toself",
         "fillcolor": "#AB63FA",
         "hoverinfo": "x+text",
         "legendgroup": "measure",
         "line": {
          "color": "black"
         },
         "marker": {
          "size": 0.01
         },
         "mode": "lines+markers",
         "name": "measure",
         "showlegend": false,
         "text": "Instruction: measure_0<br>Pulse: play<br>Start: 20200<br>Finish: 21640<br>Duration: 1440",
         "type": "scatter",
         "x": [
          20200,
          20920,
          21640,
          21640,
          20920,
          20200,
          20200,
          null
         ],
         "y": [
          1.6,
          1.6,
          1.6,
          2.4,
          2.4,
          2.4,
          1.6,
          null
         ]
        },
        {
         "fill": "toself",
         "fillcolor": "#EF553B",
         "hoverinfo": "x+text",
         "legendgroup": "barrier",
         "line": {
          "color": "black"
         },
         "marker": {
          "size": 0.01
         },
         "mode": "lines+markers",
         "name": "barrier",
         "showlegend": false,
         "text": "Instruction: barrier<br>Pulse: barrier<br>Start: 20200<br>Finish: 20200<br>Duration: 0",
         "type": "scatter",
         "x": [
          20200,
          20200,
          20200,
          20200,
          20200,
          20200,
          20200,
          null
         ],
         "y": [
          1.6,
          1.6,
          1.6,
          2.4,
          2.4,
          2.4,
          1.6,
          null
         ]
        },
        {
         "fill": "toself",
         "fillcolor": "#EF553B",
         "hoverinfo": "x+text",
         "legendgroup": "barrier",
         "line": {
          "color": "black"
         },
         "marker": {
          "size": 0.01
         },
         "mode": "lines+markers",
         "name": "barrier",
         "showlegend": false,
         "text": "Instruction: barrier<br>Pulse: barrier<br>Start: 27088<br>Finish: 27088<br>Duration: 0",
         "type": "scatter",
         "x": [
          27088,
          27088,
          27088,
          27088,
          27088,
          27088,
          27088,
          null
         ],
         "y": [
          1.6,
          1.6,
          1.6,
          2.4,
          2.4,
          2.4,
          1.6,
          null
         ]
        },
        {
         "fill": "toself",
         "fillcolor": "#FF6692",
         "hoverinfo": "x+text",
         "legendgroup": "sx",
         "line": {
          "color": "black"
         },
         "marker": {
          "size": 0.01
         },
         "mode": "lines+markers",
         "name": "sx",
         "showlegend": true,
         "text": "Instruction: sx_0<br>Pulse: play<br>Start: 20080<br>Finish: 20200<br>Duration: 120",
         "type": "scatter",
         "x": [
          20080,
          20140,
          20200,
          20200,
          20140,
          20080,
          20080,
          null
         ],
         "y": [
          1.6,
          1.6,
          1.6,
          2.4,
          2.4,
          2.4,
          1.6,
          null
         ]
        },
        {
         "fill": "toself",
         "fillcolor": "#EF553B",
         "hoverinfo": "x+text",
         "legendgroup": "barrier",
         "line": {
          "color": "black"
         },
         "marker": {
          "size": 0.01
         },
         "mode": "lines+markers",
         "name": "barrier",
         "showlegend": false,
         "text": "Instruction: barrier<br>Pulse: barrier<br>Start: 20080<br>Finish: 20080<br>Duration: 0",
         "type": "scatter",
         "x": [
          20080,
          20080,
          20080,
          20080,
          20080,
          20080,
          20080,
          null
         ],
         "y": [
          1.6,
          1.6,
          1.6,
          2.4,
          2.4,
          2.4,
          1.6,
          null
         ]
        },
        {
         "fill": "toself",
         "fillcolor": "#636EFA",
         "hoverinfo": "x+text",
         "legendgroup": "INIT",
         "line": {
          "color": "black"
         },
         "marker": {
          "size": 0.01
         },
         "mode": "lines+markers",
         "name": "INIT",
         "showlegend": true,
         "text": "Instruction: INIT_0<br>Pulse: play<br>Start: 72<br>Finish: 20072<br>Duration: 20000",
         "type": "scatter",
         "x": [
          72,
          10072,
          20072,
          20072,
          10072,
          72,
          72,
          null
         ],
         "y": [
          1.6,
          1.6,
          1.6,
          2.4,
          2.4,
          2.4,
          1.6,
          null
         ]
        },
        {
         "fill": "toself",
         "fillcolor": "#636EFA",
         "hoverinfo": "x+text",
         "legendgroup": "INIT",
         "line": {
          "color": "black"
         },
         "marker": {
          "size": 0.01
         },
         "mode": "lines+markers",
         "name": "INIT",
         "showlegend": false,
         "text": "Instruction: INIT_0<br>Pulse: play<br>Start: 80<br>Finish: 20080<br>Duration: 20000",
         "type": "scatter",
         "x": [
          80,
          10080,
          20080,
          20080,
          10080,
          80,
          80,
          null
         ],
         "y": [
          1.6,
          1.6,
          1.6,
          2.4,
          2.4,
          2.4,
          1.6,
          null
         ]
        },
        {
         "fill": "toself",
         "fillcolor": "#FFA15A",
         "hoverinfo": "x+text",
         "legendgroup": "receive",
         "line": {
          "color": "black"
         },
         "marker": {
          "size": 0.01
         },
         "mode": "lines+markers",
         "name": "receive",
         "showlegend": true,
         "text": "Instruction: receive<br>Pulse: receive<br>Start: 24176<br>Finish: 24232<br>Duration: 56",
         "type": "scatter",
         "x": [
          24176,
          24204,
          24232,
          24232,
          24204,
          24176,
          24176,
          null
         ],
         "y": [
          4.6,
          4.6,
          4.6,
          5.4,
          5.4,
          5.4,
          4.6,
          null
         ]
        },
        {
         "fill": "toself",
         "fillcolor": "#19D3F3",
         "hoverinfo": "x+text",
         "legendgroup": "rz",
         "line": {
          "color": "black"
         },
         "marker": {
          "size": 0.01
         },
         "mode": "lines+markers",
         "name": "rz",
         "showlegend": true,
         "text": "Instruction: rz_0<br>Pulse: shift_phase<br>Start: 20200<br>Finish: 20200<br>Duration: 0",
         "type": "scatter",
         "x": [
          20200,
          20201,
          20200,
          20199,
          20200,
          null
         ],
         "y": [
          1.8,
          2,
          2.2,
          2,
          1.8,
          null
         ]
        },
        {
         "fill": "toself",
         "fillcolor": "#FF6692",
         "hoverinfo": "x+text",
         "legendgroup": "sx",
         "line": {
          "color": "black"
         },
         "marker": {
          "size": 0.01
         },
         "mode": "lines+markers",
         "name": "sx",
         "showlegend": false,
         "text": "Instruction: sx_0<br>Pulse: shift_phase<br>Start: 20200<br>Finish: 20200<br>Duration: 0",
         "type": "scatter",
         "x": [
          20200,
          20201,
          20200,
          20199,
          20200,
          null
         ],
         "y": [
          1.8,
          2,
          2.2,
          2,
          1.8,
          null
         ]
        },
        {
         "fill": "toself",
         "fillcolor": "#19D3F3",
         "hoverinfo": "x+text",
         "legendgroup": "rz",
         "line": {
          "color": "black"
         },
         "marker": {
          "size": 0.01
         },
         "mode": "lines+markers",
         "name": "rz",
         "showlegend": false,
         "text": "Instruction: rz_0<br>Pulse: shift_phase<br>Start: 20080<br>Finish: 20080<br>Duration: 0",
         "type": "scatter",
         "x": [
          20080,
          20081,
          20080,
          20079,
          20080,
          null
         ],
         "y": [
          1.8,
          2,
          2.2,
          2,
          1.8,
          null
         ]
        },
        {
         "fill": "toself",
         "fillcolor": "#FF6692",
         "hoverinfo": "x+text",
         "legendgroup": "sx",
         "line": {
          "color": "black"
         },
         "marker": {
          "size": 0.01
         },
         "mode": "lines+markers",
         "name": "sx",
         "showlegend": false,
         "text": "Instruction: sx_0<br>Pulse: shift_phase<br>Start: 20200<br>Finish: 20200<br>Duration: 0",
         "type": "scatter",
         "x": [
          20200,
          20201,
          20200,
          20199,
          20200,
          null
         ],
         "y": [
          2.8,
          3,
          3.2,
          3,
          2.8,
          null
         ]
        },
        {
         "fill": "toself",
         "fillcolor": "#19D3F3",
         "hoverinfo": "x+text",
         "legendgroup": "rz",
         "line": {
          "color": "black"
         },
         "marker": {
          "size": 0.01
         },
         "mode": "lines+markers",
         "name": "rz",
         "showlegend": false,
         "text": "Instruction: rz_0<br>Pulse: shift_phase<br>Start: 20080<br>Finish: 20080<br>Duration: 0",
         "type": "scatter",
         "x": [
          20080,
          20081,
          20080,
          20079,
          20080,
          null
         ],
         "y": [
          2.8,
          3,
          3.2,
          3,
          2.8,
          null
         ]
        },
        {
         "fill": "toself",
         "fillcolor": "#19D3F3",
         "hoverinfo": "x+text",
         "legendgroup": "rz",
         "line": {
          "color": "black"
         },
         "marker": {
          "size": 0.01
         },
         "mode": "lines+markers",
         "name": "rz",
         "showlegend": false,
         "text": "Instruction: rz_0<br>Pulse: shift_phase<br>Start: 20200<br>Finish: 20200<br>Duration: 0",
         "type": "scatter",
         "x": [
          20200,
          20201,
          20200,
          20199,
          20200,
          null
         ],
         "y": [
          2.8,
          3,
          3.2,
          3,
          2.8,
          null
         ]
        },
        {
         "fill": "toself",
         "fillcolor": "#FF6692",
         "hoverinfo": "x+text",
         "legendgroup": "sx",
         "line": {
          "color": "black"
         },
         "marker": {
          "size": 0.01
         },
         "mode": "lines+markers",
         "name": "sx",
         "showlegend": false,
         "text": "Instruction: sx_0<br>Pulse: shift_phase<br>Start: 20200<br>Finish: 20200<br>Duration: 0",
         "type": "scatter",
         "x": [
          20200,
          20201,
          20200,
          20199,
          20200,
          null
         ],
         "y": [
          3.8,
          4,
          4.2,
          4,
          3.8,
          null
         ]
        },
        {
         "fill": "toself",
         "fillcolor": "#19D3F3",
         "hoverinfo": "x+text",
         "legendgroup": "rz",
         "line": {
          "color": "black"
         },
         "marker": {
          "size": 0.01
         },
         "mode": "lines+markers",
         "name": "rz",
         "showlegend": false,
         "text": "Instruction: rz_0<br>Pulse: shift_phase<br>Start: 20080<br>Finish: 20080<br>Duration: 0",
         "type": "scatter",
         "x": [
          20080,
          20081,
          20080,
          20079,
          20080,
          null
         ],
         "y": [
          3.8,
          4,
          4.2,
          4,
          3.8,
          null
         ]
        },
        {
         "fill": "toself",
         "fillcolor": "#19D3F3",
         "hoverinfo": "x+text",
         "legendgroup": "rz",
         "line": {
          "color": "black"
         },
         "marker": {
          "size": 0.01
         },
         "mode": "lines+markers",
         "name": "rz",
         "showlegend": false,
         "text": "Instruction: rz_0<br>Pulse: shift_phase<br>Start: 20200<br>Finish: 20200<br>Duration: 0",
         "type": "scatter",
         "x": [
          20200,
          20201,
          20200,
          20199,
          20200,
          null
         ],
         "y": [
          3.8,
          4,
          4.2,
          4,
          3.8,
          null
         ]
        }
       ],
       "layout": {
        "annotations": [
         {
          "font": {
           "color": "black",
           "size": 10
          },
          "showarrow": false,
          "text": "measure_capture",
          "textangle": 0,
          "x": 21808,
          "y": 0
         },
         {
          "font": {
           "color": "black",
           "size": 10
          },
          "showarrow": false,
          "text": "measure_capture",
          "textangle": 0,
          "x": 26096,
          "y": 0
         },
         {
          "font": {
           "color": "black",
           "size": 10
          },
          "showarrow": false,
          "text": "broadcast_broadcast",
          "textangle": 0,
          "x": 22592,
          "y": 1
         },
         {
          "font": {
           "color": "black",
           "size": 10
          },
          "showarrow": false,
          "text": "",
          "textangle": 0,
          "x": 0,
          "y": 2
         },
         {
          "font": {
           "color": "black",
           "size": 10
          },
          "showarrow": false,
          "text": "measure_play",
          "textangle": 0,
          "x": 25208,
          "y": 2
         },
         {
          "font": {
           "color": "black",
           "size": 10
          },
          "showarrow": false,
          "text": "",
          "textangle": 0,
          "x": 24488,
          "y": 2
         },
         {
          "font": {
           "color": "black",
           "size": 10
          },
          "showarrow": false,
          "text": "x_play",
          "textangle": 0,
          "x": 24356,
          "y": 2.25
         },
         {
          "font": {
           "color": "black",
           "size": 10
          },
          "showarrow": false,
          "text": "",
          "textangle": 0,
          "x": 24176,
          "y": 2
         },
         {
          "font": {
           "color": "black",
           "size": 10
          },
          "showarrow": false,
          "text": "measure_play",
          "textangle": 0,
          "x": 20920,
          "y": 2
         },
         {
          "font": {
           "color": "black",
           "size": 10
          },
          "showarrow": false,
          "text": "",
          "textangle": 0,
          "x": 20200,
          "y": 2
         },
         {
          "font": {
           "color": "black",
           "size": 10
          },
          "showarrow": false,
          "text": "",
          "textangle": 0,
          "x": 27088,
          "y": 2
         },
         {
          "font": {
           "color": "black",
           "size": 10
          },
          "showarrow": false,
          "text": "sx_play",
          "textangle": 0,
          "x": 20140,
          "y": 2
         },
         {
          "font": {
           "color": "black",
           "size": 10
          },
          "showarrow": false,
          "text": "",
          "textangle": 0,
          "x": 20080,
          "y": 2
         },
         {
          "font": {
           "color": "black",
           "size": 10
          },
          "showarrow": false,
          "text": "INIT_play",
          "textangle": 0,
          "x": 10072,
          "y": 2
         },
         {
          "font": {
           "color": "black",
           "size": 10
          },
          "showarrow": false,
          "text": "INIT_play",
          "textangle": 0,
          "x": 10080,
          "y": 2
         },
         {
          "font": {
           "color": "black",
           "size": 10
          },
          "showarrow": false,
          "text": "receive_receive",
          "textangle": 0,
          "x": 24204,
          "y": 5
         },
         {
          "font": {
           "color": "black",
           "size": 10
          },
          "showarrow": true,
          "text": "rz_shift_phase",
          "textangle": 0,
          "x": 20200,
          "y": 2
         },
         {
          "font": {
           "color": "black",
           "size": 10
          },
          "showarrow": true,
          "text": "sx_shift_phase",
          "textangle": 0,
          "x": 20200,
          "y": 2
         },
         {
          "font": {
           "color": "black",
           "size": 10
          },
          "showarrow": true,
          "text": "rz_shift_phase",
          "textangle": 0,
          "x": 20080,
          "y": 2
         },
         {
          "font": {
           "color": "black",
           "size": 10
          },
          "showarrow": true,
          "text": "sx_shift_phase",
          "textangle": 0,
          "x": 20200,
          "y": 3
         },
         {
          "font": {
           "color": "black",
           "size": 10
          },
          "showarrow": true,
          "text": "rz_shift_phase",
          "textangle": 0,
          "x": 20080,
          "y": 3
         },
         {
          "font": {
           "color": "black",
           "size": 10
          },
          "showarrow": true,
          "text": "rz_shift_phase",
          "textangle": 0,
          "x": 20200,
          "y": 3
         },
         {
          "font": {
           "color": "black",
           "size": 10
          },
          "showarrow": true,
          "text": "sx_shift_phase",
          "textangle": 0,
          "x": 20200,
          "y": 4
         },
         {
          "font": {
           "color": "black",
           "size": 10
          },
          "showarrow": true,
          "text": "rz_shift_phase",
          "textangle": 0,
          "x": 20080,
          "y": 4
         },
         {
          "font": {
           "color": "black",
           "size": 10
          },
          "showarrow": true,
          "text": "rz_shift_phase",
          "textangle": 0,
          "x": 20200,
          "y": 4
         }
        ],
        "height": 560,
        "paper_bgcolor": "rgba(255,255,255,1)",
        "plot_bgcolor": "rgba(255,255,255,1)",
        "template": {
         "data": {
          "bar": [
           {
            "error_x": {
             "color": "#2a3f5f"
            },
            "error_y": {
             "color": "#2a3f5f"
            },
            "marker": {
             "line": {
              "color": "#E5ECF6",
              "width": 0.5
             },
             "pattern": {
              "fillmode": "overlay",
              "size": 10,
              "solidity": 0.2
             }
            },
            "type": "bar"
           }
          ],
          "barpolar": [
           {
            "marker": {
             "line": {
              "color": "#E5ECF6",
              "width": 0.5
             },
             "pattern": {
              "fillmode": "overlay",
              "size": 10,
              "solidity": 0.2
             }
            },
            "type": "barpolar"
           }
          ],
          "carpet": [
           {
            "aaxis": {
             "endlinecolor": "#2a3f5f",
             "gridcolor": "white",
             "linecolor": "white",
             "minorgridcolor": "white",
             "startlinecolor": "#2a3f5f"
            },
            "baxis": {
             "endlinecolor": "#2a3f5f",
             "gridcolor": "white",
             "linecolor": "white",
             "minorgridcolor": "white",
             "startlinecolor": "#2a3f5f"
            },
            "type": "carpet"
           }
          ],
          "choropleth": [
           {
            "colorbar": {
             "outlinewidth": 0,
             "ticks": ""
            },
            "type": "choropleth"
           }
          ],
          "contour": [
           {
            "colorbar": {
             "outlinewidth": 0,
             "ticks": ""
            },
            "colorscale": [
             [
              0,
              "#0d0887"
             ],
             [
              0.1111111111111111,
              "#46039f"
             ],
             [
              0.2222222222222222,
              "#7201a8"
             ],
             [
              0.3333333333333333,
              "#9c179e"
             ],
             [
              0.4444444444444444,
              "#bd3786"
             ],
             [
              0.5555555555555556,
              "#d8576b"
             ],
             [
              0.6666666666666666,
              "#ed7953"
             ],
             [
              0.7777777777777778,
              "#fb9f3a"
             ],
             [
              0.8888888888888888,
              "#fdca26"
             ],
             [
              1,
              "#f0f921"
             ]
            ],
            "type": "contour"
           }
          ],
          "contourcarpet": [
           {
            "colorbar": {
             "outlinewidth": 0,
             "ticks": ""
            },
            "type": "contourcarpet"
           }
          ],
          "heatmap": [
           {
            "colorbar": {
             "outlinewidth": 0,
             "ticks": ""
            },
            "colorscale": [
             [
              0,
              "#0d0887"
             ],
             [
              0.1111111111111111,
              "#46039f"
             ],
             [
              0.2222222222222222,
              "#7201a8"
             ],
             [
              0.3333333333333333,
              "#9c179e"
             ],
             [
              0.4444444444444444,
              "#bd3786"
             ],
             [
              0.5555555555555556,
              "#d8576b"
             ],
             [
              0.6666666666666666,
              "#ed7953"
             ],
             [
              0.7777777777777778,
              "#fb9f3a"
             ],
             [
              0.8888888888888888,
              "#fdca26"
             ],
             [
              1,
              "#f0f921"
             ]
            ],
            "type": "heatmap"
           }
          ],
          "histogram": [
           {
            "marker": {
             "pattern": {
              "fillmode": "overlay",
              "size": 10,
              "solidity": 0.2
             }
            },
            "type": "histogram"
           }
          ],
          "histogram2d": [
           {
            "colorbar": {
             "outlinewidth": 0,
             "ticks": ""
            },
            "colorscale": [
             [
              0,
              "#0d0887"
             ],
             [
              0.1111111111111111,
              "#46039f"
             ],
             [
              0.2222222222222222,
              "#7201a8"
             ],
             [
              0.3333333333333333,
              "#9c179e"
             ],
             [
              0.4444444444444444,
              "#bd3786"
             ],
             [
              0.5555555555555556,
              "#d8576b"
             ],
             [
              0.6666666666666666,
              "#ed7953"
             ],
             [
              0.7777777777777778,
              "#fb9f3a"
             ],
             [
              0.8888888888888888,
              "#fdca26"
             ],
             [
              1,
              "#f0f921"
             ]
            ],
            "type": "histogram2d"
           }
          ],
          "histogram2dcontour": [
           {
            "colorbar": {
             "outlinewidth": 0,
             "ticks": ""
            },
            "colorscale": [
             [
              0,
              "#0d0887"
             ],
             [
              0.1111111111111111,
              "#46039f"
             ],
             [
              0.2222222222222222,
              "#7201a8"
             ],
             [
              0.3333333333333333,
              "#9c179e"
             ],
             [
              0.4444444444444444,
              "#bd3786"
             ],
             [
              0.5555555555555556,
              "#d8576b"
             ],
             [
              0.6666666666666666,
              "#ed7953"
             ],
             [
              0.7777777777777778,
              "#fb9f3a"
             ],
             [
              0.8888888888888888,
              "#fdca26"
             ],
             [
              1,
              "#f0f921"
             ]
            ],
            "type": "histogram2dcontour"
           }
          ],
          "mesh3d": [
           {
            "colorbar": {
             "outlinewidth": 0,
             "ticks": ""
            },
            "type": "mesh3d"
           }
          ],
          "parcoords": [
           {
            "line": {
             "colorbar": {
              "outlinewidth": 0,
              "ticks": ""
             }
            },
            "type": "parcoords"
           }
          ],
          "pie": [
           {
            "automargin": true,
            "type": "pie"
           }
          ],
          "scatter": [
           {
            "fillpattern": {
             "fillmode": "overlay",
             "size": 10,
             "solidity": 0.2
            },
            "type": "scatter"
           }
          ],
          "scatter3d": [
           {
            "line": {
             "colorbar": {
              "outlinewidth": 0,
              "ticks": ""
             }
            },
            "marker": {
             "colorbar": {
              "outlinewidth": 0,
              "ticks": ""
             }
            },
            "type": "scatter3d"
           }
          ],
          "scattercarpet": [
           {
            "marker": {
             "colorbar": {
              "outlinewidth": 0,
              "ticks": ""
             }
            },
            "type": "scattercarpet"
           }
          ],
          "scattergeo": [
           {
            "marker": {
             "colorbar": {
              "outlinewidth": 0,
              "ticks": ""
             }
            },
            "type": "scattergeo"
           }
          ],
          "scattergl": [
           {
            "marker": {
             "colorbar": {
              "outlinewidth": 0,
              "ticks": ""
             }
            },
            "type": "scattergl"
           }
          ],
          "scattermap": [
           {
            "marker": {
             "colorbar": {
              "outlinewidth": 0,
              "ticks": ""
             }
            },
            "type": "scattermap"
           }
          ],
          "scattermapbox": [
           {
            "marker": {
             "colorbar": {
              "outlinewidth": 0,
              "ticks": ""
             }
            },
            "type": "scattermapbox"
           }
          ],
          "scatterpolar": [
           {
            "marker": {
             "colorbar": {
              "outlinewidth": 0,
              "ticks": ""
             }
            },
            "type": "scatterpolar"
           }
          ],
          "scatterpolargl": [
           {
            "marker": {
             "colorbar": {
              "outlinewidth": 0,
              "ticks": ""
             }
            },
            "type": "scatterpolargl"
           }
          ],
          "scatterternary": [
           {
            "marker": {
             "colorbar": {
              "outlinewidth": 0,
              "ticks": ""
             }
            },
            "type": "scatterternary"
           }
          ],
          "surface": [
           {
            "colorbar": {
             "outlinewidth": 0,
             "ticks": ""
            },
            "colorscale": [
             [
              0,
              "#0d0887"
             ],
             [
              0.1111111111111111,
              "#46039f"
             ],
             [
              0.2222222222222222,
              "#7201a8"
             ],
             [
              0.3333333333333333,
              "#9c179e"
             ],
             [
              0.4444444444444444,
              "#bd3786"
             ],
             [
              0.5555555555555556,
              "#d8576b"
             ],
             [
              0.6666666666666666,
              "#ed7953"
             ],
             [
              0.7777777777777778,
              "#fb9f3a"
             ],
             [
              0.8888888888888888,
              "#fdca26"
             ],
             [
              1,
              "#f0f921"
             ]
            ],
            "type": "surface"
           }
          ],
          "table": [
           {
            "cells": {
             "fill": {
              "color": "#EBF0F8"
             },
             "line": {
              "color": "white"
             }
            },
            "header": {
             "fill": {
              "color": "#C8D4E3"
             },
             "line": {
              "color": "white"
             }
            },
            "type": "table"
           }
          ]
         },
         "layout": {
          "annotationdefaults": {
           "arrowcolor": "#2a3f5f",
           "arrowhead": 0,
           "arrowwidth": 1
          },
          "autotypenumbers": "strict",
          "coloraxis": {
           "colorbar": {
            "outlinewidth": 0,
            "ticks": ""
           }
          },
          "colorscale": {
           "diverging": [
            [
             0,
             "#8e0152"
            ],
            [
             0.1,
             "#c51b7d"
            ],
            [
             0.2,
             "#de77ae"
            ],
            [
             0.3,
             "#f1b6da"
            ],
            [
             0.4,
             "#fde0ef"
            ],
            [
             0.5,
             "#f7f7f7"
            ],
            [
             0.6,
             "#e6f5d0"
            ],
            [
             0.7,
             "#b8e186"
            ],
            [
             0.8,
             "#7fbc41"
            ],
            [
             0.9,
             "#4d9221"
            ],
            [
             1,
             "#276419"
            ]
           ],
           "sequential": [
            [
             0,
             "#0d0887"
            ],
            [
             0.1111111111111111,
             "#46039f"
            ],
            [
             0.2222222222222222,
             "#7201a8"
            ],
            [
             0.3333333333333333,
             "#9c179e"
            ],
            [
             0.4444444444444444,
             "#bd3786"
            ],
            [
             0.5555555555555556,
             "#d8576b"
            ],
            [
             0.6666666666666666,
             "#ed7953"
            ],
            [
             0.7777777777777778,
             "#fb9f3a"
            ],
            [
             0.8888888888888888,
             "#fdca26"
            ],
            [
             1,
             "#f0f921"
            ]
           ],
           "sequentialminus": [
            [
             0,
             "#0d0887"
            ],
            [
             0.1111111111111111,
             "#46039f"
            ],
            [
             0.2222222222222222,
             "#7201a8"
            ],
            [
             0.3333333333333333,
             "#9c179e"
            ],
            [
             0.4444444444444444,
             "#bd3786"
            ],
            [
             0.5555555555555556,
             "#d8576b"
            ],
            [
             0.6666666666666666,
             "#ed7953"
            ],
            [
             0.7777777777777778,
             "#fb9f3a"
            ],
            [
             0.8888888888888888,
             "#fdca26"
            ],
            [
             1,
             "#f0f921"
            ]
           ]
          },
          "colorway": [
           "#636efa",
           "#EF553B",
           "#00cc96",
           "#ab63fa",
           "#FFA15A",
           "#19d3f3",
           "#FF6692",
           "#B6E880",
           "#FF97FF",
           "#FECB52"
          ],
          "font": {
           "color": "#2a3f5f"
          },
          "geo": {
           "bgcolor": "white",
           "lakecolor": "white",
           "landcolor": "#E5ECF6",
           "showlakes": true,
           "showland": true,
           "subunitcolor": "white"
          },
          "hoverlabel": {
           "align": "left"
          },
          "hovermode": "closest",
          "mapbox": {
           "style": "light"
          },
          "paper_bgcolor": "white",
          "plot_bgcolor": "#E5ECF6",
          "polar": {
           "angularaxis": {
            "gridcolor": "white",
            "linecolor": "white",
            "ticks": ""
           },
           "bgcolor": "#E5ECF6",
           "radialaxis": {
            "gridcolor": "white",
            "linecolor": "white",
            "ticks": ""
           }
          },
          "scene": {
           "xaxis": {
            "backgroundcolor": "#E5ECF6",
            "gridcolor": "white",
            "gridwidth": 2,
            "linecolor": "white",
            "showbackground": true,
            "ticks": "",
            "zerolinecolor": "white"
           },
           "yaxis": {
            "backgroundcolor": "#E5ECF6",
            "gridcolor": "white",
            "gridwidth": 2,
            "linecolor": "white",
            "showbackground": true,
            "ticks": "",
            "zerolinecolor": "white"
           },
           "zaxis": {
            "backgroundcolor": "#E5ECF6",
            "gridcolor": "white",
            "gridwidth": 2,
            "linecolor": "white",
            "showbackground": true,
            "ticks": "",
            "zerolinecolor": "white"
           }
          },
          "shapedefaults": {
           "line": {
            "color": "#2a3f5f"
           }
          },
          "ternary": {
           "aaxis": {
            "gridcolor": "white",
            "linecolor": "white",
            "ticks": ""
           },
           "baxis": {
            "gridcolor": "white",
            "linecolor": "white",
            "ticks": ""
           },
           "bgcolor": "#E5ECF6",
           "caxis": {
            "gridcolor": "white",
            "linecolor": "white",
            "ticks": ""
           }
          },
          "title": {
           "x": 0.05
          },
          "xaxis": {
           "automargin": true,
           "gridcolor": "white",
           "linecolor": "white",
           "ticks": "",
           "title": {
            "standoff": 15
           },
           "zerolinecolor": "white",
           "zerolinewidth": 2
          },
          "yaxis": {
           "automargin": true,
           "gridcolor": "white",
           "linecolor": "white",
           "ticks": "",
           "title": {
            "standoff": 15
           },
           "zerolinecolor": "white",
           "zerolinewidth": 2
          }
         }
        },
        "title": {
         "font": {
          "size": 20
         },
         "text": "Payload Schedule",
         "x": 0.5
        },
        "updatemenus": [
         {
          "buttons": [
           {
            "args": [
             {
              "annotations": [
               {
                "font": {
                 "color": "black",
                 "size": 10
                },
                "showarrow": false,
                "text": "measure_capture",
                "textangle": 0,
                "x": 21808,
                "y": 0
               },
               {
                "font": {
                 "color": "black",
                 "size": 10
                },
                "showarrow": false,
                "text": "measure_capture",
                "textangle": 0,
                "x": 26096,
                "y": 0
               },
               {
                "font": {
                 "color": "black",
                 "size": 10
                },
                "showarrow": false,
                "text": "broadcast_broadcast",
                "textangle": 0,
                "x": 22592,
                "y": 1
               },
               {
                "font": {
                 "color": "black",
                 "size": 10
                },
                "showarrow": false,
                "text": "",
                "textangle": 0,
                "x": 0,
                "y": 2
               },
               {
                "font": {
                 "color": "black",
                 "size": 10
                },
                "showarrow": false,
                "text": "measure_play",
                "textangle": 0,
                "x": 25208,
                "y": 2
               },
               {
                "font": {
                 "color": "black",
                 "size": 10
                },
                "showarrow": false,
                "text": "",
                "textangle": 0,
                "x": 24488,
                "y": 2
               },
               {
                "font": {
                 "color": "black",
                 "size": 10
                },
                "showarrow": false,
                "text": "x_play",
                "textangle": 0,
                "x": 24356,
                "y": 2.25
               },
               {
                "font": {
                 "color": "black",
                 "size": 10
                },
                "showarrow": false,
                "text": "",
                "textangle": 0,
                "x": 24176,
                "y": 2
               },
               {
                "font": {
                 "color": "black",
                 "size": 10
                },
                "showarrow": false,
                "text": "measure_play",
                "textangle": 0,
                "x": 20920,
                "y": 2
               },
               {
                "font": {
                 "color": "black",
                 "size": 10
                },
                "showarrow": false,
                "text": "",
                "textangle": 0,
                "x": 20200,
                "y": 2
               },
               {
                "font": {
                 "color": "black",
                 "size": 10
                },
                "showarrow": false,
                "text": "",
                "textangle": 0,
                "x": 27088,
                "y": 2
               },
               {
                "font": {
                 "color": "black",
                 "size": 10
                },
                "showarrow": false,
                "text": "sx_play",
                "textangle": 0,
                "x": 20140,
                "y": 2
               },
               {
                "font": {
                 "color": "black",
                 "size": 10
                },
                "showarrow": false,
                "text": "",
                "textangle": 0,
                "x": 20080,
                "y": 2
               },
               {
                "font": {
                 "color": "black",
                 "size": 10
                },
                "showarrow": false,
                "text": "INIT_play",
                "textangle": 0,
                "x": 10072,
                "y": 2
               },
               {
                "font": {
                 "color": "black",
                 "size": 10
                },
                "showarrow": false,
                "text": "INIT_play",
                "textangle": 0,
                "x": 10080,
                "y": 2
               },
               {
                "font": {
                 "color": "black",
                 "size": 10
                },
                "showarrow": false,
                "text": "receive_receive",
                "textangle": 0,
                "x": 24204,
                "y": 5
               },
               {
                "font": {
                 "color": "black",
                 "size": 10
                },
                "showarrow": true,
                "text": "rz_shift_phase",
                "textangle": 0,
                "x": 20200,
                "y": 2
               },
               {
                "font": {
                 "color": "black",
                 "size": 10
                },
                "showarrow": true,
                "text": "sx_shift_phase",
                "textangle": 0,
                "x": 20200,
                "y": 2
               },
               {
                "font": {
                 "color": "black",
                 "size": 10
                },
                "showarrow": true,
                "text": "rz_shift_phase",
                "textangle": 0,
                "x": 20080,
                "y": 2
               },
               {
                "font": {
                 "color": "black",
                 "size": 10
                },
                "showarrow": true,
                "text": "sx_shift_phase",
                "textangle": 0,
                "x": 20200,
                "y": 3
               },
               {
                "font": {
                 "color": "black",
                 "size": 10
                },
                "showarrow": true,
                "text": "rz_shift_phase",
                "textangle": 0,
                "x": 20080,
                "y": 3
               },
               {
                "font": {
                 "color": "black",
                 "size": 10
                },
                "showarrow": true,
                "text": "rz_shift_phase",
                "textangle": 0,
                "x": 20200,
                "y": 3
               },
               {
                "font": {
                 "color": "black",
                 "size": 10
                },
                "showarrow": true,
                "text": "sx_shift_phase",
                "textangle": 0,
                "x": 20200,
                "y": 4
               },
               {
                "font": {
                 "color": "black",
                 "size": 10
                },
                "showarrow": true,
                "text": "rz_shift_phase",
                "textangle": 0,
                "x": 20080,
                "y": 4
               },
               {
                "font": {
                 "color": "black",
                 "size": 10
                },
                "showarrow": true,
                "text": "rz_shift_phase",
                "textangle": 0,
                "x": 20200,
                "y": 4
               }
              ]
             }
            ],
            "label": "Show Annotations",
            "method": "relayout"
           },
           {
            "args": [
             {
              "annotations": []
             }
            ],
            "label": "Hide Annotations",
            "method": "relayout"
           }
          ],
          "direction": "down",
          "pad": {
           "r": 10,
           "t": 10
          },
          "showactive": true,
          "type": "dropdown",
          "x": 0,
          "xanchor": "left",
          "y": 1.1,
          "yanchor": "top"
         }
        ],
        "width": 1000,
        "xaxis": {
         "linecolor": "black",
         "linewidth": 1,
         "mirror": true,
         "range": [
          0,
          27089
         ],
         "rangeslider": {
          "visible": true
         },
         "showline": true,
         "title": {
          "text": "Cycles"
         },
         "type": "linear"
        },
        "yaxis": {
         "gridcolor": "rgba(38,38,38,0.15)",
         "linecolor": "black",
         "linewidth": 1,
         "mirror": true,
         "showline": true,
         "tickmode": "array",
         "ticktext": [
          "AWGRM_4",
          "Hub",
          "Qubit 0",
          "Qubit 1",
          "Qubit 14",
          "Receive"
         ],
         "tickvals": [
          0,
          1,
          2,
          3,
          4,
          5
         ],
         "title": {
          "text": "Channels"
         }
        }
       }
      },
      "text/plain": [
       "<Image src=\"/docs/images/guides/visualize-circuit-timing/extracted-outputs/9d1901c3-0.avif\" alt=\"Output of the previous code cell\" />"
      ]
     },
     "metadata": {},
     "output_type": "display_data"
    }
   ],
   "source": [
    "from qiskit_ibm_runtime.visualization import draw_circuit_schedule_timing\n",
    "\n",
    "circuit_schedule = result[0].metadata[\"compilation\"][\"scheduler_timing\"][\n",
    "    \"timing\"\n",
    "]\n",
    "fig = draw_circuit_schedule_timing(\n",
    "    circuit_schedule=circuit_schedule,\n",
    "    included_channels=None,\n",
    "    filter_readout_channels=False,\n",
    "    filter_barriers=False,\n",
    "    width=1000,\n",
    ")\n",
    "\n",
    "# Display the figure\n",
    "fig.show()"
   ]
  },
  {
   "cell_type": "markdown",
   "id": "9daa7cf7",
   "metadata": {},
   "source": [
    "## Next steps\n",
    "\n",
    "<Admonition type=\"tip\" title=\"Recommendations\">\n",
    "  - [Classical feedforward and control flow](/docs/guides/classical-feedforward-and-control-flow) (dynamic circuits)\n",
    "  - [Visualize circuits](/docs/guides/visualize-circuits)\n",
    "</Admonition>"
   ]
  }
 ],
 "metadata": {
  "description": "Visualize the timing of generated circuits by generating a figure that you can view, download, or both.",
  "kernelspec": {
   "display_name": "Python 3",
   "language": "python",
   "name": "python3"
  },
  "language_info": {
   "codemirror_mode": {
    "name": "ipython",
    "version": 3
   },
   "file_extension": ".py",
   "mimetype": "text/x-python",
   "name": "python",
   "nbconvert_exporter": "python",
   "pygments_lexer": "ipython3",
   "version": "3"
  },
  "title": "Visualize circuit timing"
 },
 "nbformat": 4,
 "nbformat_minor": 5
}
